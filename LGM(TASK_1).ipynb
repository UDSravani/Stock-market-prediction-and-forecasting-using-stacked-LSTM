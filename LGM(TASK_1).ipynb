{
  "cells": [
    {
      "cell_type": "markdown",
      "metadata": {
        "id": "xM86iPUq279Z"
      },
      "source": [
        "**Task-1**"
      ]
    },
    {
      "cell_type": "markdown",
      "metadata": {
        "id": "o9aRRUts3Bzh"
      },
      "source": [
        "**stock market prediction and forecasting using stacked LSTM**"
      ]
    },
    {
      "cell_type": "markdown",
      "metadata": {
        "id": "Im7wGdo-7tH7"
      },
      "source": [
        "**https://raw.githubusercontent.com/mwitiderrick/stockprice/master/NSE-TATAGLOBAL.csv****Data Set Link**"
      ]
    },
    {
      "cell_type": "code",
      "execution_count": null,
      "metadata": {
        "id": "bR-4nSJD8QDp"
      },
      "outputs": [],
      "source": [
        "import pandas as pd\n",
        "import warnings\n",
        "warnings.filterwarnings(\"ignore\")"
      ]
    },
    {
      "cell_type": "code",
      "execution_count": null,
      "metadata": {
        "id": "rhs6xa8e8YZj"
      },
      "outputs": [],
      "source": [
        "df=pd.read_csv(\"stock_1.csv\")"
      ]
    },
    {
      "cell_type": "code",
      "execution_count": null,
      "metadata": {
        "colab": {
          "base_uri": "https://localhost:8080/",
          "height": 468
        },
        "id": "KGXC3Y_Z_v4F",
        "outputId": "b22ede32-16bb-4d81-c3bb-3d60887281bd"
      },
      "outputs": [
        {
          "output_type": "execute_result",
          "data": {
            "text/plain": [
              "            Date    Open    High     Low    Last   Close  \\\n",
              "0     28-09-2018  234.05  235.95  230.20  233.50  233.75   \n",
              "1     27-09-2018  234.55  236.80  231.10  233.80  233.25   \n",
              "2     26-09-2018  240.00  240.00  232.50  235.00  234.25   \n",
              "3     25-09-2018  233.30  236.75  232.00  236.25  236.10   \n",
              "4     24-09-2018  233.55  239.20  230.75  234.00  233.30   \n",
              "...          ...     ...     ...     ...     ...     ...   \n",
              "2030  27-07-2010  117.60  119.50  112.00  118.80  118.65   \n",
              "2031  26-07-2010  120.10  121.00  117.10  117.10  117.60   \n",
              "2032  23-07-2010  121.80  121.95  120.25  120.35  120.65   \n",
              "2033  22-07-2010  120.30  122.00  120.25  120.75  120.90   \n",
              "2034  21-07-2010  122.10  123.00  121.05  121.10  121.55   \n",
              "\n",
              "      Total Trade Quantity  Turnover (Lacs)  \n",
              "0                  3069914          7162.35  \n",
              "1                  5082859         11859.95  \n",
              "2                  2240909          5248.60  \n",
              "3                  2349368          5503.90  \n",
              "4                  3423509          7999.55  \n",
              "...                    ...              ...  \n",
              "2030                586100           694.98  \n",
              "2031                658440           780.01  \n",
              "2032                281312           340.31  \n",
              "2033                293312           355.17  \n",
              "2034                658666           803.56  \n",
              "\n",
              "[2035 rows x 8 columns]"
            ],
            "text/html": [
              "\n",
              "  <div id=\"df-5832cce1-7c53-442c-a869-a8b17d56a8f0\">\n",
              "    <div class=\"colab-df-container\">\n",
              "      <div>\n",
              "<style scoped>\n",
              "    .dataframe tbody tr th:only-of-type {\n",
              "        vertical-align: middle;\n",
              "    }\n",
              "\n",
              "    .dataframe tbody tr th {\n",
              "        vertical-align: top;\n",
              "    }\n",
              "\n",
              "    .dataframe thead th {\n",
              "        text-align: right;\n",
              "    }\n",
              "</style>\n",
              "<table border=\"1\" class=\"dataframe\">\n",
              "  <thead>\n",
              "    <tr style=\"text-align: right;\">\n",
              "      <th></th>\n",
              "      <th>Date</th>\n",
              "      <th>Open</th>\n",
              "      <th>High</th>\n",
              "      <th>Low</th>\n",
              "      <th>Last</th>\n",
              "      <th>Close</th>\n",
              "      <th>Total Trade Quantity</th>\n",
              "      <th>Turnover (Lacs)</th>\n",
              "    </tr>\n",
              "  </thead>\n",
              "  <tbody>\n",
              "    <tr>\n",
              "      <th>0</th>\n",
              "      <td>28-09-2018</td>\n",
              "      <td>234.05</td>\n",
              "      <td>235.95</td>\n",
              "      <td>230.20</td>\n",
              "      <td>233.50</td>\n",
              "      <td>233.75</td>\n",
              "      <td>3069914</td>\n",
              "      <td>7162.35</td>\n",
              "    </tr>\n",
              "    <tr>\n",
              "      <th>1</th>\n",
              "      <td>27-09-2018</td>\n",
              "      <td>234.55</td>\n",
              "      <td>236.80</td>\n",
              "      <td>231.10</td>\n",
              "      <td>233.80</td>\n",
              "      <td>233.25</td>\n",
              "      <td>5082859</td>\n",
              "      <td>11859.95</td>\n",
              "    </tr>\n",
              "    <tr>\n",
              "      <th>2</th>\n",
              "      <td>26-09-2018</td>\n",
              "      <td>240.00</td>\n",
              "      <td>240.00</td>\n",
              "      <td>232.50</td>\n",
              "      <td>235.00</td>\n",
              "      <td>234.25</td>\n",
              "      <td>2240909</td>\n",
              "      <td>5248.60</td>\n",
              "    </tr>\n",
              "    <tr>\n",
              "      <th>3</th>\n",
              "      <td>25-09-2018</td>\n",
              "      <td>233.30</td>\n",
              "      <td>236.75</td>\n",
              "      <td>232.00</td>\n",
              "      <td>236.25</td>\n",
              "      <td>236.10</td>\n",
              "      <td>2349368</td>\n",
              "      <td>5503.90</td>\n",
              "    </tr>\n",
              "    <tr>\n",
              "      <th>4</th>\n",
              "      <td>24-09-2018</td>\n",
              "      <td>233.55</td>\n",
              "      <td>239.20</td>\n",
              "      <td>230.75</td>\n",
              "      <td>234.00</td>\n",
              "      <td>233.30</td>\n",
              "      <td>3423509</td>\n",
              "      <td>7999.55</td>\n",
              "    </tr>\n",
              "    <tr>\n",
              "      <th>...</th>\n",
              "      <td>...</td>\n",
              "      <td>...</td>\n",
              "      <td>...</td>\n",
              "      <td>...</td>\n",
              "      <td>...</td>\n",
              "      <td>...</td>\n",
              "      <td>...</td>\n",
              "      <td>...</td>\n",
              "    </tr>\n",
              "    <tr>\n",
              "      <th>2030</th>\n",
              "      <td>27-07-2010</td>\n",
              "      <td>117.60</td>\n",
              "      <td>119.50</td>\n",
              "      <td>112.00</td>\n",
              "      <td>118.80</td>\n",
              "      <td>118.65</td>\n",
              "      <td>586100</td>\n",
              "      <td>694.98</td>\n",
              "    </tr>\n",
              "    <tr>\n",
              "      <th>2031</th>\n",
              "      <td>26-07-2010</td>\n",
              "      <td>120.10</td>\n",
              "      <td>121.00</td>\n",
              "      <td>117.10</td>\n",
              "      <td>117.10</td>\n",
              "      <td>117.60</td>\n",
              "      <td>658440</td>\n",
              "      <td>780.01</td>\n",
              "    </tr>\n",
              "    <tr>\n",
              "      <th>2032</th>\n",
              "      <td>23-07-2010</td>\n",
              "      <td>121.80</td>\n",
              "      <td>121.95</td>\n",
              "      <td>120.25</td>\n",
              "      <td>120.35</td>\n",
              "      <td>120.65</td>\n",
              "      <td>281312</td>\n",
              "      <td>340.31</td>\n",
              "    </tr>\n",
              "    <tr>\n",
              "      <th>2033</th>\n",
              "      <td>22-07-2010</td>\n",
              "      <td>120.30</td>\n",
              "      <td>122.00</td>\n",
              "      <td>120.25</td>\n",
              "      <td>120.75</td>\n",
              "      <td>120.90</td>\n",
              "      <td>293312</td>\n",
              "      <td>355.17</td>\n",
              "    </tr>\n",
              "    <tr>\n",
              "      <th>2034</th>\n",
              "      <td>21-07-2010</td>\n",
              "      <td>122.10</td>\n",
              "      <td>123.00</td>\n",
              "      <td>121.05</td>\n",
              "      <td>121.10</td>\n",
              "      <td>121.55</td>\n",
              "      <td>658666</td>\n",
              "      <td>803.56</td>\n",
              "    </tr>\n",
              "  </tbody>\n",
              "</table>\n",
              "<p>2035 rows × 8 columns</p>\n",
              "</div>\n",
              "      <button class=\"colab-df-convert\" onclick=\"convertToInteractive('df-5832cce1-7c53-442c-a869-a8b17d56a8f0')\"\n",
              "              title=\"Convert this dataframe to an interactive table.\"\n",
              "              style=\"display:none;\">\n",
              "        \n",
              "  <svg xmlns=\"http://www.w3.org/2000/svg\" height=\"24px\"viewBox=\"0 0 24 24\"\n",
              "       width=\"24px\">\n",
              "    <path d=\"M0 0h24v24H0V0z\" fill=\"none\"/>\n",
              "    <path d=\"M18.56 5.44l.94 2.06.94-2.06 2.06-.94-2.06-.94-.94-2.06-.94 2.06-2.06.94zm-11 1L8.5 8.5l.94-2.06 2.06-.94-2.06-.94L8.5 2.5l-.94 2.06-2.06.94zm10 10l.94 2.06.94-2.06 2.06-.94-2.06-.94-.94-2.06-.94 2.06-2.06.94z\"/><path d=\"M17.41 7.96l-1.37-1.37c-.4-.4-.92-.59-1.43-.59-.52 0-1.04.2-1.43.59L10.3 9.45l-7.72 7.72c-.78.78-.78 2.05 0 2.83L4 21.41c.39.39.9.59 1.41.59.51 0 1.02-.2 1.41-.59l7.78-7.78 2.81-2.81c.8-.78.8-2.07 0-2.86zM5.41 20L4 18.59l7.72-7.72 1.47 1.35L5.41 20z\"/>\n",
              "  </svg>\n",
              "      </button>\n",
              "      \n",
              "  <style>\n",
              "    .colab-df-container {\n",
              "      display:flex;\n",
              "      flex-wrap:wrap;\n",
              "      gap: 12px;\n",
              "    }\n",
              "\n",
              "    .colab-df-convert {\n",
              "      background-color: #E8F0FE;\n",
              "      border: none;\n",
              "      border-radius: 50%;\n",
              "      cursor: pointer;\n",
              "      display: none;\n",
              "      fill: #1967D2;\n",
              "      height: 32px;\n",
              "      padding: 0 0 0 0;\n",
              "      width: 32px;\n",
              "    }\n",
              "\n",
              "    .colab-df-convert:hover {\n",
              "      background-color: #E2EBFA;\n",
              "      box-shadow: 0px 1px 2px rgba(60, 64, 67, 0.3), 0px 1px 3px 1px rgba(60, 64, 67, 0.15);\n",
              "      fill: #174EA6;\n",
              "    }\n",
              "\n",
              "    [theme=dark] .colab-df-convert {\n",
              "      background-color: #3B4455;\n",
              "      fill: #D2E3FC;\n",
              "    }\n",
              "\n",
              "    [theme=dark] .colab-df-convert:hover {\n",
              "      background-color: #434B5C;\n",
              "      box-shadow: 0px 1px 3px 1px rgba(0, 0, 0, 0.15);\n",
              "      filter: drop-shadow(0px 1px 2px rgba(0, 0, 0, 0.3));\n",
              "      fill: #FFFFFF;\n",
              "    }\n",
              "  </style>\n",
              "\n",
              "      <script>\n",
              "        const buttonEl =\n",
              "          document.querySelector('#df-5832cce1-7c53-442c-a869-a8b17d56a8f0 button.colab-df-convert');\n",
              "        buttonEl.style.display =\n",
              "          google.colab.kernel.accessAllowed ? 'block' : 'none';\n",
              "\n",
              "        async function convertToInteractive(key) {\n",
              "          const element = document.querySelector('#df-5832cce1-7c53-442c-a869-a8b17d56a8f0');\n",
              "          const dataTable =\n",
              "            await google.colab.kernel.invokeFunction('convertToInteractive',\n",
              "                                                     [key], {});\n",
              "          if (!dataTable) return;\n",
              "\n",
              "          const docLinkHtml = 'Like what you see? Visit the ' +\n",
              "            '<a target=\"_blank\" href=https://colab.research.google.com/notebooks/data_table.ipynb>data table notebook</a>'\n",
              "            + ' to learn more about interactive tables.';\n",
              "          element.innerHTML = '';\n",
              "          dataTable['output_type'] = 'display_data';\n",
              "          await google.colab.output.renderOutput(dataTable, element);\n",
              "          const docLink = document.createElement('div');\n",
              "          docLink.innerHTML = docLinkHtml;\n",
              "          element.appendChild(docLink);\n",
              "        }\n",
              "      </script>\n",
              "    </div>\n",
              "  </div>\n",
              "  "
            ]
          },
          "metadata": {},
          "execution_count": 6
        }
      ],
      "source": [
        "df"
      ]
    },
    {
      "cell_type": "code",
      "execution_count": null,
      "metadata": {
        "id": "uzZ4BdxaAj-W"
      },
      "outputs": [],
      "source": [
        "df1=df.reset_index()"
      ]
    },
    {
      "cell_type": "code",
      "execution_count": null,
      "metadata": {
        "colab": {
          "base_uri": "https://localhost:8080/",
          "height": 658
        },
        "id": "aipMx8J7AooK",
        "outputId": "901f1511-db90-42b8-e6fd-d6654682d038"
      },
      "outputs": [
        {
          "output_type": "execute_result",
          "data": {
            "text/plain": [
              "      index        Date    Open    High     Low    Last   Close  \\\n",
              "0         0  28-09-2018  234.05  235.95  230.20  233.50  233.75   \n",
              "1         1  27-09-2018  234.55  236.80  231.10  233.80  233.25   \n",
              "2         2  26-09-2018  240.00  240.00  232.50  235.00  234.25   \n",
              "3         3  25-09-2018  233.30  236.75  232.00  236.25  236.10   \n",
              "4         4  24-09-2018  233.55  239.20  230.75  234.00  233.30   \n",
              "...     ...         ...     ...     ...     ...     ...     ...   \n",
              "2030   2030  27-07-2010  117.60  119.50  112.00  118.80  118.65   \n",
              "2031   2031  26-07-2010  120.10  121.00  117.10  117.10  117.60   \n",
              "2032   2032  23-07-2010  121.80  121.95  120.25  120.35  120.65   \n",
              "2033   2033  22-07-2010  120.30  122.00  120.25  120.75  120.90   \n",
              "2034   2034  21-07-2010  122.10  123.00  121.05  121.10  121.55   \n",
              "\n",
              "      Total Trade Quantity  Turnover (Lacs)  \n",
              "0                  3069914          7162.35  \n",
              "1                  5082859         11859.95  \n",
              "2                  2240909          5248.60  \n",
              "3                  2349368          5503.90  \n",
              "4                  3423509          7999.55  \n",
              "...                    ...              ...  \n",
              "2030                586100           694.98  \n",
              "2031                658440           780.01  \n",
              "2032                281312           340.31  \n",
              "2033                293312           355.17  \n",
              "2034                658666           803.56  \n",
              "\n",
              "[2035 rows x 9 columns]"
            ],
            "text/html": [
              "\n",
              "  <div id=\"df-b0a8709e-3208-406d-82fd-553e5e33995a\">\n",
              "    <div class=\"colab-df-container\">\n",
              "      <div>\n",
              "<style scoped>\n",
              "    .dataframe tbody tr th:only-of-type {\n",
              "        vertical-align: middle;\n",
              "    }\n",
              "\n",
              "    .dataframe tbody tr th {\n",
              "        vertical-align: top;\n",
              "    }\n",
              "\n",
              "    .dataframe thead th {\n",
              "        text-align: right;\n",
              "    }\n",
              "</style>\n",
              "<table border=\"1\" class=\"dataframe\">\n",
              "  <thead>\n",
              "    <tr style=\"text-align: right;\">\n",
              "      <th></th>\n",
              "      <th>index</th>\n",
              "      <th>Date</th>\n",
              "      <th>Open</th>\n",
              "      <th>High</th>\n",
              "      <th>Low</th>\n",
              "      <th>Last</th>\n",
              "      <th>Close</th>\n",
              "      <th>Total Trade Quantity</th>\n",
              "      <th>Turnover (Lacs)</th>\n",
              "    </tr>\n",
              "  </thead>\n",
              "  <tbody>\n",
              "    <tr>\n",
              "      <th>0</th>\n",
              "      <td>0</td>\n",
              "      <td>28-09-2018</td>\n",
              "      <td>234.05</td>\n",
              "      <td>235.95</td>\n",
              "      <td>230.20</td>\n",
              "      <td>233.50</td>\n",
              "      <td>233.75</td>\n",
              "      <td>3069914</td>\n",
              "      <td>7162.35</td>\n",
              "    </tr>\n",
              "    <tr>\n",
              "      <th>1</th>\n",
              "      <td>1</td>\n",
              "      <td>27-09-2018</td>\n",
              "      <td>234.55</td>\n",
              "      <td>236.80</td>\n",
              "      <td>231.10</td>\n",
              "      <td>233.80</td>\n",
              "      <td>233.25</td>\n",
              "      <td>5082859</td>\n",
              "      <td>11859.95</td>\n",
              "    </tr>\n",
              "    <tr>\n",
              "      <th>2</th>\n",
              "      <td>2</td>\n",
              "      <td>26-09-2018</td>\n",
              "      <td>240.00</td>\n",
              "      <td>240.00</td>\n",
              "      <td>232.50</td>\n",
              "      <td>235.00</td>\n",
              "      <td>234.25</td>\n",
              "      <td>2240909</td>\n",
              "      <td>5248.60</td>\n",
              "    </tr>\n",
              "    <tr>\n",
              "      <th>3</th>\n",
              "      <td>3</td>\n",
              "      <td>25-09-2018</td>\n",
              "      <td>233.30</td>\n",
              "      <td>236.75</td>\n",
              "      <td>232.00</td>\n",
              "      <td>236.25</td>\n",
              "      <td>236.10</td>\n",
              "      <td>2349368</td>\n",
              "      <td>5503.90</td>\n",
              "    </tr>\n",
              "    <tr>\n",
              "      <th>4</th>\n",
              "      <td>4</td>\n",
              "      <td>24-09-2018</td>\n",
              "      <td>233.55</td>\n",
              "      <td>239.20</td>\n",
              "      <td>230.75</td>\n",
              "      <td>234.00</td>\n",
              "      <td>233.30</td>\n",
              "      <td>3423509</td>\n",
              "      <td>7999.55</td>\n",
              "    </tr>\n",
              "    <tr>\n",
              "      <th>...</th>\n",
              "      <td>...</td>\n",
              "      <td>...</td>\n",
              "      <td>...</td>\n",
              "      <td>...</td>\n",
              "      <td>...</td>\n",
              "      <td>...</td>\n",
              "      <td>...</td>\n",
              "      <td>...</td>\n",
              "      <td>...</td>\n",
              "    </tr>\n",
              "    <tr>\n",
              "      <th>2030</th>\n",
              "      <td>2030</td>\n",
              "      <td>27-07-2010</td>\n",
              "      <td>117.60</td>\n",
              "      <td>119.50</td>\n",
              "      <td>112.00</td>\n",
              "      <td>118.80</td>\n",
              "      <td>118.65</td>\n",
              "      <td>586100</td>\n",
              "      <td>694.98</td>\n",
              "    </tr>\n",
              "    <tr>\n",
              "      <th>2031</th>\n",
              "      <td>2031</td>\n",
              "      <td>26-07-2010</td>\n",
              "      <td>120.10</td>\n",
              "      <td>121.00</td>\n",
              "      <td>117.10</td>\n",
              "      <td>117.10</td>\n",
              "      <td>117.60</td>\n",
              "      <td>658440</td>\n",
              "      <td>780.01</td>\n",
              "    </tr>\n",
              "    <tr>\n",
              "      <th>2032</th>\n",
              "      <td>2032</td>\n",
              "      <td>23-07-2010</td>\n",
              "      <td>121.80</td>\n",
              "      <td>121.95</td>\n",
              "      <td>120.25</td>\n",
              "      <td>120.35</td>\n",
              "      <td>120.65</td>\n",
              "      <td>281312</td>\n",
              "      <td>340.31</td>\n",
              "    </tr>\n",
              "    <tr>\n",
              "      <th>2033</th>\n",
              "      <td>2033</td>\n",
              "      <td>22-07-2010</td>\n",
              "      <td>120.30</td>\n",
              "      <td>122.00</td>\n",
              "      <td>120.25</td>\n",
              "      <td>120.75</td>\n",
              "      <td>120.90</td>\n",
              "      <td>293312</td>\n",
              "      <td>355.17</td>\n",
              "    </tr>\n",
              "    <tr>\n",
              "      <th>2034</th>\n",
              "      <td>2034</td>\n",
              "      <td>21-07-2010</td>\n",
              "      <td>122.10</td>\n",
              "      <td>123.00</td>\n",
              "      <td>121.05</td>\n",
              "      <td>121.10</td>\n",
              "      <td>121.55</td>\n",
              "      <td>658666</td>\n",
              "      <td>803.56</td>\n",
              "    </tr>\n",
              "  </tbody>\n",
              "</table>\n",
              "<p>2035 rows × 9 columns</p>\n",
              "</div>\n",
              "      <button class=\"colab-df-convert\" onclick=\"convertToInteractive('df-b0a8709e-3208-406d-82fd-553e5e33995a')\"\n",
              "              title=\"Convert this dataframe to an interactive table.\"\n",
              "              style=\"display:none;\">\n",
              "        \n",
              "  <svg xmlns=\"http://www.w3.org/2000/svg\" height=\"24px\"viewBox=\"0 0 24 24\"\n",
              "       width=\"24px\">\n",
              "    <path d=\"M0 0h24v24H0V0z\" fill=\"none\"/>\n",
              "    <path d=\"M18.56 5.44l.94 2.06.94-2.06 2.06-.94-2.06-.94-.94-2.06-.94 2.06-2.06.94zm-11 1L8.5 8.5l.94-2.06 2.06-.94-2.06-.94L8.5 2.5l-.94 2.06-2.06.94zm10 10l.94 2.06.94-2.06 2.06-.94-2.06-.94-.94-2.06-.94 2.06-2.06.94z\"/><path d=\"M17.41 7.96l-1.37-1.37c-.4-.4-.92-.59-1.43-.59-.52 0-1.04.2-1.43.59L10.3 9.45l-7.72 7.72c-.78.78-.78 2.05 0 2.83L4 21.41c.39.39.9.59 1.41.59.51 0 1.02-.2 1.41-.59l7.78-7.78 2.81-2.81c.8-.78.8-2.07 0-2.86zM5.41 20L4 18.59l7.72-7.72 1.47 1.35L5.41 20z\"/>\n",
              "  </svg>\n",
              "      </button>\n",
              "      \n",
              "  <style>\n",
              "    .colab-df-container {\n",
              "      display:flex;\n",
              "      flex-wrap:wrap;\n",
              "      gap: 12px;\n",
              "    }\n",
              "\n",
              "    .colab-df-convert {\n",
              "      background-color: #E8F0FE;\n",
              "      border: none;\n",
              "      border-radius: 50%;\n",
              "      cursor: pointer;\n",
              "      display: none;\n",
              "      fill: #1967D2;\n",
              "      height: 32px;\n",
              "      padding: 0 0 0 0;\n",
              "      width: 32px;\n",
              "    }\n",
              "\n",
              "    .colab-df-convert:hover {\n",
              "      background-color: #E2EBFA;\n",
              "      box-shadow: 0px 1px 2px rgba(60, 64, 67, 0.3), 0px 1px 3px 1px rgba(60, 64, 67, 0.15);\n",
              "      fill: #174EA6;\n",
              "    }\n",
              "\n",
              "    [theme=dark] .colab-df-convert {\n",
              "      background-color: #3B4455;\n",
              "      fill: #D2E3FC;\n",
              "    }\n",
              "\n",
              "    [theme=dark] .colab-df-convert:hover {\n",
              "      background-color: #434B5C;\n",
              "      box-shadow: 0px 1px 3px 1px rgba(0, 0, 0, 0.15);\n",
              "      filter: drop-shadow(0px 1px 2px rgba(0, 0, 0, 0.3));\n",
              "      fill: #FFFFFF;\n",
              "    }\n",
              "  </style>\n",
              "\n",
              "      <script>\n",
              "        const buttonEl =\n",
              "          document.querySelector('#df-b0a8709e-3208-406d-82fd-553e5e33995a button.colab-df-convert');\n",
              "        buttonEl.style.display =\n",
              "          google.colab.kernel.accessAllowed ? 'block' : 'none';\n",
              "\n",
              "        async function convertToInteractive(key) {\n",
              "          const element = document.querySelector('#df-b0a8709e-3208-406d-82fd-553e5e33995a');\n",
              "          const dataTable =\n",
              "            await google.colab.kernel.invokeFunction('convertToInteractive',\n",
              "                                                     [key], {});\n",
              "          if (!dataTable) return;\n",
              "\n",
              "          const docLinkHtml = 'Like what you see? Visit the ' +\n",
              "            '<a target=\"_blank\" href=https://colab.research.google.com/notebooks/data_table.ipynb>data table notebook</a>'\n",
              "            + ' to learn more about interactive tables.';\n",
              "          element.innerHTML = '';\n",
              "          dataTable['output_type'] = 'display_data';\n",
              "          await google.colab.output.renderOutput(dataTable, element);\n",
              "          const docLink = document.createElement('div');\n",
              "          docLink.innerHTML = docLinkHtml;\n",
              "          element.appendChild(docLink);\n",
              "        }\n",
              "      </script>\n",
              "    </div>\n",
              "  </div>\n",
              "  "
            ]
          },
          "metadata": {},
          "execution_count": 8
        }
      ],
      "source": [
        "df1"
      ]
    },
    {
      "cell_type": "code",
      "execution_count": null,
      "metadata": {
        "id": "JUkc8GSJAuqo"
      },
      "outputs": [],
      "source": [
        "df1=df.reset_index()['Close']"
      ]
    },
    {
      "cell_type": "code",
      "execution_count": null,
      "metadata": {
        "colab": {
          "base_uri": "https://localhost:8080/"
        },
        "id": "_lZAwA5oCc__",
        "outputId": "eda0a998-0fc1-41f3-b84f-80a489c35ff4"
      },
      "outputs": [
        {
          "output_type": "execute_result",
          "data": {
            "text/plain": [
              "0       233.75\n",
              "1       233.25\n",
              "2       234.25\n",
              "3       236.10\n",
              "4       233.30\n",
              "         ...  \n",
              "2030    118.65\n",
              "2031    117.60\n",
              "2032    120.65\n",
              "2033    120.90\n",
              "2034    121.55\n",
              "Name: Close, Length: 2035, dtype: float64"
            ]
          },
          "metadata": {},
          "execution_count": 10
        }
      ],
      "source": [
        "df1"
      ]
    },
    {
      "cell_type": "code",
      "execution_count": null,
      "metadata": {
        "colab": {
          "base_uri": "https://localhost:8080/"
        },
        "id": "6DQfQ1l3BuGd",
        "outputId": "51c46699-02c7-4c89-d56e-336df0cfdf34"
      },
      "outputs": [
        {
          "output_type": "stream",
          "name": "stdout",
          "text": [
            "['Date', 'Open', 'High', 'Low', 'Last', 'Close', 'Total Trade Quantity', 'Turnover (Lacs)']\n"
          ]
        }
      ],
      "source": [
        "#display all column names of DataFrame\n",
        "print(df.columns.tolist())\n"
      ]
    },
    {
      "cell_type": "code",
      "execution_count": null,
      "metadata": {
        "colab": {
          "base_uri": "https://localhost:8080/"
        },
        "id": "EyKG_rB8A09Q",
        "outputId": "82113b0d-9920-4a94-cf0a-135c4a2776bb"
      },
      "outputs": [
        {
          "output_type": "stream",
          "name": "stdout",
          "text": [
            "0       233.75\n",
            "1       233.25\n",
            "2       234.25\n",
            "3       236.10\n",
            "4       233.30\n",
            "         ...  \n",
            "2030    118.65\n",
            "2031    117.60\n",
            "2032    120.65\n",
            "2033    120.90\n",
            "2034    121.55\n",
            "Name: Close, Length: 2035, dtype: float64\n"
          ]
        }
      ],
      "source": [
        "#print values in 'points' column\n",
        "print(df['Close'])"
      ]
    },
    {
      "cell_type": "code",
      "execution_count": null,
      "metadata": {
        "colab": {
          "base_uri": "https://localhost:8080/"
        },
        "id": "ZWWjD0fYZLTU",
        "outputId": "44026774-f8c4-4424-f6d5-7ff4dc06cb8c"
      },
      "outputs": [
        {
          "output_type": "execute_result",
          "data": {
            "text/plain": [
              "0       28-09-2018\n",
              "1       27-09-2018\n",
              "2       26-09-2018\n",
              "3       25-09-2018\n",
              "4       24-09-2018\n",
              "           ...    \n",
              "2030    27-07-2010\n",
              "2031    26-07-2010\n",
              "2032    23-07-2010\n",
              "2033    22-07-2010\n",
              "2034    21-07-2010\n",
              "Name: Date, Length: 2035, dtype: object"
            ]
          },
          "metadata": {},
          "execution_count": 13
        }
      ],
      "source": [
        "df['Date']"
      ]
    },
    {
      "cell_type": "code",
      "execution_count": null,
      "metadata": {
        "id": "kt2Xvug2Z3Gs"
      },
      "outputs": [],
      "source": [
        "df['year'] = df['Date'].str[-4:]\n",
        "newdf = df.loc[(df[\"year\"]=='2018') | (df[\"year\"]=='2017') | (df[\"year\"]=='2016') | (df[\"year\"]=='2015')]"
      ]
    },
    {
      "cell_type": "code",
      "execution_count": null,
      "metadata": {
        "colab": {
          "base_uri": "https://localhost:8080/",
          "height": 658
        },
        "id": "vpH6RW4-kkba",
        "outputId": "067bee67-ac8c-4a52-895e-6e7782b49f48"
      },
      "outputs": [
        {
          "output_type": "execute_result",
          "data": {
            "text/plain": [
              "           Date    Open    High     Low    Last   Close  Total Trade Quantity  \\\n",
              "0    28-09-2018  234.05  235.95  230.20  233.50  233.75               3069914   \n",
              "1    27-09-2018  234.55  236.80  231.10  233.80  233.25               5082859   \n",
              "2    26-09-2018  240.00  240.00  232.50  235.00  234.25               2240909   \n",
              "3    25-09-2018  233.30  236.75  232.00  236.25  236.10               2349368   \n",
              "4    24-09-2018  233.55  239.20  230.75  234.00  233.30               3423509   \n",
              "..          ...     ...     ...     ...     ...     ...                   ...   \n",
              "923  07-01-2015  147.20  149.20  146.00  148.55  148.45               2770541   \n",
              "924  06-01-2015  151.95  151.95  147.00  148.55  148.15               2390258   \n",
              "925  05-01-2015  151.65  154.50  151.65  153.15  152.95               1873161   \n",
              "926  02-01-2015  150.90  153.20  150.55  153.00  152.50               2043127   \n",
              "927  01-01-2015  150.95  151.75  150.35  150.50  150.70                535692   \n",
              "\n",
              "     Turnover (Lacs)  year  \n",
              "0            7162.35  2018  \n",
              "1           11859.95  2018  \n",
              "2            5248.60  2018  \n",
              "3            5503.90  2018  \n",
              "4            7999.55  2018  \n",
              "..               ...   ...  \n",
              "923          4090.99  2015  \n",
              "924          3565.59  2015  \n",
              "925          2866.56  2015  \n",
              "926          3114.04  2015  \n",
              "927           809.15  2015  \n",
              "\n",
              "[928 rows x 9 columns]"
            ],
            "text/html": [
              "\n",
              "  <div id=\"df-d4c1c410-8e3e-41fc-9c6d-67961942130c\">\n",
              "    <div class=\"colab-df-container\">\n",
              "      <div>\n",
              "<style scoped>\n",
              "    .dataframe tbody tr th:only-of-type {\n",
              "        vertical-align: middle;\n",
              "    }\n",
              "\n",
              "    .dataframe tbody tr th {\n",
              "        vertical-align: top;\n",
              "    }\n",
              "\n",
              "    .dataframe thead th {\n",
              "        text-align: right;\n",
              "    }\n",
              "</style>\n",
              "<table border=\"1\" class=\"dataframe\">\n",
              "  <thead>\n",
              "    <tr style=\"text-align: right;\">\n",
              "      <th></th>\n",
              "      <th>Date</th>\n",
              "      <th>Open</th>\n",
              "      <th>High</th>\n",
              "      <th>Low</th>\n",
              "      <th>Last</th>\n",
              "      <th>Close</th>\n",
              "      <th>Total Trade Quantity</th>\n",
              "      <th>Turnover (Lacs)</th>\n",
              "      <th>year</th>\n",
              "    </tr>\n",
              "  </thead>\n",
              "  <tbody>\n",
              "    <tr>\n",
              "      <th>0</th>\n",
              "      <td>28-09-2018</td>\n",
              "      <td>234.05</td>\n",
              "      <td>235.95</td>\n",
              "      <td>230.20</td>\n",
              "      <td>233.50</td>\n",
              "      <td>233.75</td>\n",
              "      <td>3069914</td>\n",
              "      <td>7162.35</td>\n",
              "      <td>2018</td>\n",
              "    </tr>\n",
              "    <tr>\n",
              "      <th>1</th>\n",
              "      <td>27-09-2018</td>\n",
              "      <td>234.55</td>\n",
              "      <td>236.80</td>\n",
              "      <td>231.10</td>\n",
              "      <td>233.80</td>\n",
              "      <td>233.25</td>\n",
              "      <td>5082859</td>\n",
              "      <td>11859.95</td>\n",
              "      <td>2018</td>\n",
              "    </tr>\n",
              "    <tr>\n",
              "      <th>2</th>\n",
              "      <td>26-09-2018</td>\n",
              "      <td>240.00</td>\n",
              "      <td>240.00</td>\n",
              "      <td>232.50</td>\n",
              "      <td>235.00</td>\n",
              "      <td>234.25</td>\n",
              "      <td>2240909</td>\n",
              "      <td>5248.60</td>\n",
              "      <td>2018</td>\n",
              "    </tr>\n",
              "    <tr>\n",
              "      <th>3</th>\n",
              "      <td>25-09-2018</td>\n",
              "      <td>233.30</td>\n",
              "      <td>236.75</td>\n",
              "      <td>232.00</td>\n",
              "      <td>236.25</td>\n",
              "      <td>236.10</td>\n",
              "      <td>2349368</td>\n",
              "      <td>5503.90</td>\n",
              "      <td>2018</td>\n",
              "    </tr>\n",
              "    <tr>\n",
              "      <th>4</th>\n",
              "      <td>24-09-2018</td>\n",
              "      <td>233.55</td>\n",
              "      <td>239.20</td>\n",
              "      <td>230.75</td>\n",
              "      <td>234.00</td>\n",
              "      <td>233.30</td>\n",
              "      <td>3423509</td>\n",
              "      <td>7999.55</td>\n",
              "      <td>2018</td>\n",
              "    </tr>\n",
              "    <tr>\n",
              "      <th>...</th>\n",
              "      <td>...</td>\n",
              "      <td>...</td>\n",
              "      <td>...</td>\n",
              "      <td>...</td>\n",
              "      <td>...</td>\n",
              "      <td>...</td>\n",
              "      <td>...</td>\n",
              "      <td>...</td>\n",
              "      <td>...</td>\n",
              "    </tr>\n",
              "    <tr>\n",
              "      <th>923</th>\n",
              "      <td>07-01-2015</td>\n",
              "      <td>147.20</td>\n",
              "      <td>149.20</td>\n",
              "      <td>146.00</td>\n",
              "      <td>148.55</td>\n",
              "      <td>148.45</td>\n",
              "      <td>2770541</td>\n",
              "      <td>4090.99</td>\n",
              "      <td>2015</td>\n",
              "    </tr>\n",
              "    <tr>\n",
              "      <th>924</th>\n",
              "      <td>06-01-2015</td>\n",
              "      <td>151.95</td>\n",
              "      <td>151.95</td>\n",
              "      <td>147.00</td>\n",
              "      <td>148.55</td>\n",
              "      <td>148.15</td>\n",
              "      <td>2390258</td>\n",
              "      <td>3565.59</td>\n",
              "      <td>2015</td>\n",
              "    </tr>\n",
              "    <tr>\n",
              "      <th>925</th>\n",
              "      <td>05-01-2015</td>\n",
              "      <td>151.65</td>\n",
              "      <td>154.50</td>\n",
              "      <td>151.65</td>\n",
              "      <td>153.15</td>\n",
              "      <td>152.95</td>\n",
              "      <td>1873161</td>\n",
              "      <td>2866.56</td>\n",
              "      <td>2015</td>\n",
              "    </tr>\n",
              "    <tr>\n",
              "      <th>926</th>\n",
              "      <td>02-01-2015</td>\n",
              "      <td>150.90</td>\n",
              "      <td>153.20</td>\n",
              "      <td>150.55</td>\n",
              "      <td>153.00</td>\n",
              "      <td>152.50</td>\n",
              "      <td>2043127</td>\n",
              "      <td>3114.04</td>\n",
              "      <td>2015</td>\n",
              "    </tr>\n",
              "    <tr>\n",
              "      <th>927</th>\n",
              "      <td>01-01-2015</td>\n",
              "      <td>150.95</td>\n",
              "      <td>151.75</td>\n",
              "      <td>150.35</td>\n",
              "      <td>150.50</td>\n",
              "      <td>150.70</td>\n",
              "      <td>535692</td>\n",
              "      <td>809.15</td>\n",
              "      <td>2015</td>\n",
              "    </tr>\n",
              "  </tbody>\n",
              "</table>\n",
              "<p>928 rows × 9 columns</p>\n",
              "</div>\n",
              "      <button class=\"colab-df-convert\" onclick=\"convertToInteractive('df-d4c1c410-8e3e-41fc-9c6d-67961942130c')\"\n",
              "              title=\"Convert this dataframe to an interactive table.\"\n",
              "              style=\"display:none;\">\n",
              "        \n",
              "  <svg xmlns=\"http://www.w3.org/2000/svg\" height=\"24px\"viewBox=\"0 0 24 24\"\n",
              "       width=\"24px\">\n",
              "    <path d=\"M0 0h24v24H0V0z\" fill=\"none\"/>\n",
              "    <path d=\"M18.56 5.44l.94 2.06.94-2.06 2.06-.94-2.06-.94-.94-2.06-.94 2.06-2.06.94zm-11 1L8.5 8.5l.94-2.06 2.06-.94-2.06-.94L8.5 2.5l-.94 2.06-2.06.94zm10 10l.94 2.06.94-2.06 2.06-.94-2.06-.94-.94-2.06-.94 2.06-2.06.94z\"/><path d=\"M17.41 7.96l-1.37-1.37c-.4-.4-.92-.59-1.43-.59-.52 0-1.04.2-1.43.59L10.3 9.45l-7.72 7.72c-.78.78-.78 2.05 0 2.83L4 21.41c.39.39.9.59 1.41.59.51 0 1.02-.2 1.41-.59l7.78-7.78 2.81-2.81c.8-.78.8-2.07 0-2.86zM5.41 20L4 18.59l7.72-7.72 1.47 1.35L5.41 20z\"/>\n",
              "  </svg>\n",
              "      </button>\n",
              "      \n",
              "  <style>\n",
              "    .colab-df-container {\n",
              "      display:flex;\n",
              "      flex-wrap:wrap;\n",
              "      gap: 12px;\n",
              "    }\n",
              "\n",
              "    .colab-df-convert {\n",
              "      background-color: #E8F0FE;\n",
              "      border: none;\n",
              "      border-radius: 50%;\n",
              "      cursor: pointer;\n",
              "      display: none;\n",
              "      fill: #1967D2;\n",
              "      height: 32px;\n",
              "      padding: 0 0 0 0;\n",
              "      width: 32px;\n",
              "    }\n",
              "\n",
              "    .colab-df-convert:hover {\n",
              "      background-color: #E2EBFA;\n",
              "      box-shadow: 0px 1px 2px rgba(60, 64, 67, 0.3), 0px 1px 3px 1px rgba(60, 64, 67, 0.15);\n",
              "      fill: #174EA6;\n",
              "    }\n",
              "\n",
              "    [theme=dark] .colab-df-convert {\n",
              "      background-color: #3B4455;\n",
              "      fill: #D2E3FC;\n",
              "    }\n",
              "\n",
              "    [theme=dark] .colab-df-convert:hover {\n",
              "      background-color: #434B5C;\n",
              "      box-shadow: 0px 1px 3px 1px rgba(0, 0, 0, 0.15);\n",
              "      filter: drop-shadow(0px 1px 2px rgba(0, 0, 0, 0.3));\n",
              "      fill: #FFFFFF;\n",
              "    }\n",
              "  </style>\n",
              "\n",
              "      <script>\n",
              "        const buttonEl =\n",
              "          document.querySelector('#df-d4c1c410-8e3e-41fc-9c6d-67961942130c button.colab-df-convert');\n",
              "        buttonEl.style.display =\n",
              "          google.colab.kernel.accessAllowed ? 'block' : 'none';\n",
              "\n",
              "        async function convertToInteractive(key) {\n",
              "          const element = document.querySelector('#df-d4c1c410-8e3e-41fc-9c6d-67961942130c');\n",
              "          const dataTable =\n",
              "            await google.colab.kernel.invokeFunction('convertToInteractive',\n",
              "                                                     [key], {});\n",
              "          if (!dataTable) return;\n",
              "\n",
              "          const docLinkHtml = 'Like what you see? Visit the ' +\n",
              "            '<a target=\"_blank\" href=https://colab.research.google.com/notebooks/data_table.ipynb>data table notebook</a>'\n",
              "            + ' to learn more about interactive tables.';\n",
              "          element.innerHTML = '';\n",
              "          dataTable['output_type'] = 'display_data';\n",
              "          await google.colab.output.renderOutput(dataTable, element);\n",
              "          const docLink = document.createElement('div');\n",
              "          docLink.innerHTML = docLinkHtml;\n",
              "          element.appendChild(docLink);\n",
              "        }\n",
              "      </script>\n",
              "    </div>\n",
              "  </div>\n",
              "  "
            ]
          },
          "metadata": {},
          "execution_count": 15
        }
      ],
      "source": [
        "newdf"
      ]
    },
    {
      "cell_type": "code",
      "execution_count": null,
      "metadata": {
        "colab": {
          "base_uri": "https://localhost:8080/"
        },
        "id": "0WhOgs3x3cp6",
        "outputId": "18654a97-bf3b-43d9-8713-79dfef678496"
      },
      "outputs": [
        {
          "output_type": "execute_result",
          "data": {
            "text/plain": [
              "(928,)"
            ]
          },
          "metadata": {},
          "execution_count": 16
        }
      ],
      "source": [
        "datafrom2015to2020=newdf.reset_index()['Close']\n",
        "datafrom2015to2020.shape"
      ]
    },
    {
      "cell_type": "code",
      "execution_count": null,
      "metadata": {
        "colab": {
          "base_uri": "https://localhost:8080/",
          "height": 283
        },
        "id": "zzPeuwGc3y9v",
        "outputId": "f0502ee3-db2c-42f1-f9e7-381a1411a898"
      },
      "outputs": [
        {
          "output_type": "execute_result",
          "data": {
            "text/plain": [
              "[<matplotlib.lines.Line2D at 0x7fba32ddea00>]"
            ]
          },
          "metadata": {},
          "execution_count": 17
        },
        {
          "output_type": "display_data",
          "data": {
            "text/plain": [
              "<Figure size 432x288 with 1 Axes>"
            ],
            "image/png": "[encoded data removed]"
          },
          "metadata": {
            "needs_background": "light"
          }
        }
      ],
      "source": [
        "import matplotlib.pyplot as plt#plotting from 2015 to 2018\n",
        "plt.plot(datafrom2015to2020)"
      ]
    },
    {
      "cell_type": "code",
      "execution_count": null,
      "metadata": {
        "colab": {
          "base_uri": "https://localhost:8080/",
          "height": 283
        },
        "id": "QXlKvPPE5TAH",
        "outputId": "6d3c080a-9d96-44f1-851b-841b1ff2a492"
      },
      "outputs": [
        {
          "output_type": "execute_result",
          "data": {
            "text/plain": [
              "[<matplotlib.lines.Line2D at 0x7fba32925520>]"
            ]
          },
          "metadata": {},
          "execution_count": 18
        },
        {
          "output_type": "display_data",
          "data": {
            "text/plain": [
              "<Figure size 432x288 with 1 Axes>"
            ],
            "image/png": "[encoded data removed]"
          },
          "metadata": {
            "needs_background": "light"
          }
        }
      ],
      "source": [
        "plt.plot(df1)"
      ]
    },
    {
      "cell_type": "code",
      "execution_count": null,
      "metadata": {
        "id": "0GywKLSb5AtI"
      },
      "outputs": [],
      "source": [
        "import numpy as np"
      ]
    },
    {
      "cell_type": "code",
      "execution_count": null,
      "metadata": {
        "id": "Oq1mFgEbkMAH"
      },
      "outputs": [],
      "source": [
        "from sklearn.preprocessing import MinMaxScaler\n",
        "scaler=MinMaxScaler(feature_range=(0,1))\n",
        "df1=scaler.fit_transform(np.array(df1).reshape(-1,1))"
      ]
    },
    {
      "cell_type": "code",
      "execution_count": null,
      "metadata": {
        "colab": {
          "base_uri": "https://localhost:8080/"
        },
        "id": "lkzIYnaP9_JX",
        "outputId": "d192fdb2-a841-4b6a-cc08-a5d88571a7ab"
      },
      "outputs": [
        {
          "output_type": "execute_result",
          "data": {
            "text/plain": [
              "(2035, 1)"
            ]
          },
          "metadata": {},
          "execution_count": 21
        }
      ],
      "source": [
        "df1.shape"
      ]
    },
    {
      "cell_type": "code",
      "execution_count": null,
      "metadata": {
        "colab": {
          "base_uri": "https://localhost:8080/"
        },
        "id": "5pynHQfu-LS5",
        "outputId": "41166ce5-bb06-4eb9-c238-6154178c88a6"
      },
      "outputs": [
        {
          "output_type": "execute_result",
          "data": {
            "text/plain": [
              "array([[0.62418301],\n",
              "       [0.62214052],\n",
              "       [0.62622549],\n",
              "       ...,\n",
              "       [0.1621732 ],\n",
              "       [0.16319444],\n",
              "       [0.16584967]])"
            ]
          },
          "metadata": {},
          "execution_count": 22
        }
      ],
      "source": [
        "df1"
      ]
    },
    {
      "cell_type": "code",
      "execution_count": null,
      "metadata": {
        "colab": {
          "base_uri": "https://localhost:8080/"
        },
        "id": "7SgvGoYc-Tpw",
        "outputId": "c4eb0af4-9a3a-42aa-92a5-036d3b9ebe90"
      },
      "outputs": [
        {
          "output_type": "stream",
          "name": "stdout",
          "text": [
            "[[0.62418301]\n",
            " [0.62214052]\n",
            " [0.62622549]\n",
            " ...\n",
            " [0.1621732 ]\n",
            " [0.16319444]\n",
            " [0.16584967]]\n"
          ]
        }
      ],
      "source": [
        "print(df1)"
      ]
    },
    {
      "cell_type": "markdown",
      "metadata": {
        "id": "OEuhlfJfqPk0"
      },
      "source": [
        "**Train and Test Split**"
      ]
    },
    {
      "cell_type": "code",
      "execution_count": null,
      "metadata": {
        "id": "w7_ZucR6p1A2"
      },
      "outputs": [],
      "source": [
        "training_size=int(len(df1)*0.65)\n",
        "test_size=len(df1)-training_size\n",
        "train_data,test_data=df1[0:training_size,:],df1[training_size:len(df1),:1]"
      ]
    },
    {
      "cell_type": "code",
      "execution_count": null,
      "metadata": {
        "colab": {
          "base_uri": "https://localhost:8080/"
        },
        "id": "rNrchfUv-qtN",
        "outputId": "d353dffa-814a-48f1-b071-1cd023873b7b"
      },
      "outputs": [
        {
          "output_type": "execute_result",
          "data": {
            "text/plain": [
              "(1322, 713)"
            ]
          },
          "metadata": {},
          "execution_count": 25
        }
      ],
      "source": [
        "training_size,test_size"
      ]
    },
    {
      "cell_type": "code",
      "execution_count": null,
      "metadata": {
        "colab": {
          "base_uri": "https://localhost:8080/"
        },
        "id": "Kav_9Wdi_JGv",
        "outputId": "c3c44b76-aa8d-4d4d-f821-b90ca8342c3a"
      },
      "outputs": [
        {
          "output_type": "execute_result",
          "data": {
            "text/plain": [
              "1322"
            ]
          },
          "metadata": {},
          "execution_count": 26
        }
      ],
      "source": [
        "len(train_data)"
      ]
    },
    {
      "cell_type": "code",
      "execution_count": null,
      "metadata": {
        "colab": {
          "base_uri": "https://localhost:8080/"
        },
        "id": "OWH2OKzv_RKC",
        "outputId": "54ab462d-9f8b-49c3-93f4-8717a06fcf62"
      },
      "outputs": [
        {
          "output_type": "execute_result",
          "data": {
            "text/plain": [
              "713"
            ]
          },
          "metadata": {},
          "execution_count": 27
        }
      ],
      "source": [
        "len(test_data)"
      ]
    },
    {
      "cell_type": "code",
      "execution_count": null,
      "metadata": {
        "colab": {
          "base_uri": "https://localhost:8080/"
        },
        "id": "rjlKu7li_TtM",
        "outputId": "1e513f81-fae5-4f6c-9e7d-871e3d9992b8"
      },
      "outputs": [
        {
          "output_type": "execute_result",
          "data": {
            "text/plain": [
              "array([[0.62418301],\n",
              "       [0.62214052],\n",
              "       [0.62622549],\n",
              "       ...,\n",
              "       [0.25347222],\n",
              "       [0.26041667],\n",
              "       [0.2563317 ]])"
            ]
          },
          "metadata": {},
          "execution_count": 28
        }
      ],
      "source": [
        "train_data"
      ]
    },
    {
      "cell_type": "code",
      "execution_count": null,
      "metadata": {
        "colab": {
          "base_uri": "https://localhost:8080/"
        },
        "id": "3tMZSJU__ZHm",
        "outputId": "c6da1cc3-7edc-44a6-99e1-1f45361efaf2"
      },
      "outputs": [
        {
          "output_type": "execute_result",
          "data": {
            "text/plain": [
              "array([[0.24652778],\n",
              "       [0.23611111],\n",
              "       [0.25204248],\n",
              "       [0.25919118],\n",
              "       [0.25776144],\n",
              "       [0.2681781 ],\n",
              "       [0.25449346],\n",
              "       [0.27103758],\n",
              "       [0.24530229],\n",
              "       [0.26756536],\n",
              "       [0.27267157],\n",
              "       [0.26633987],\n",
              "       [0.27410131],\n",
              "       [0.28615196],\n",
              "       [0.27818627],\n",
              "       [0.27205882],\n",
              "       [0.27124183],\n",
              "       [0.27798203],\n",
              "       [0.27083333],\n",
              "       [0.25857843],\n",
              "       [0.24285131],\n",
              "       [0.2250817 ],\n",
              "       [0.23447712],\n",
              "       [0.24346405],\n",
              "       [0.23611111],\n",
              "       [0.22937092],\n",
              "       [0.21527778],\n",
              "       [0.20976307],\n",
              "       [0.20751634],\n",
              "       [0.2060866 ],\n",
              "       [0.20445261],\n",
              "       [0.20098039],\n",
              "       [0.21180556],\n",
              "       [0.19301471],\n",
              "       [0.18974673],\n",
              "       [0.20302288],\n",
              "       [0.21752451],\n",
              "       [0.20629085],\n",
              "       [0.19158497],\n",
              "       [0.17381536],\n",
              "       [0.17401961],\n",
              "       [0.18361928],\n",
              "       [0.17830882],\n",
              "       [0.19362745],\n",
              "       [0.20098039],\n",
              "       [0.20486111],\n",
              "       [0.21425654],\n",
              "       [0.21813725],\n",
              "       [0.21466503],\n",
              "       [0.21343954],\n",
              "       [0.21160131],\n",
              "       [0.21711601],\n",
              "       [0.20710784],\n",
              "       [0.2005719 ],\n",
              "       [0.20874183],\n",
              "       [0.18647876],\n",
              "       [0.19199346],\n",
              "       [0.1807598 ],\n",
              "       [0.20935458],\n",
              "       [0.20792484],\n",
              "       [0.21425654],\n",
              "       [0.23366013],\n",
              "       [0.23304739],\n",
              "       [0.26184641],\n",
              "       [0.26715686],\n",
              "       [0.24897876],\n",
              "       [0.24550654],\n",
              "       [0.2373366 ],\n",
              "       [0.24754902],\n",
              "       [0.2495915 ],\n",
              "       [0.24448529],\n",
              "       [0.25142974],\n",
              "       [0.26102941],\n",
              "       [0.2504085 ],\n",
              "       [0.24734477],\n",
              "       [0.2622549 ],\n",
              "       [0.2689951 ],\n",
              "       [0.27941176],\n",
              "       [0.25714869],\n",
              "       [0.27287582],\n",
              "       [0.27246732],\n",
              "       [0.27389706],\n",
              "       [0.26368464],\n",
              "       [0.27798203],\n",
              "       [0.28962418],\n",
              "       [0.29840686],\n",
              "       [0.2943219 ],\n",
              "       [0.30228758],\n",
              "       [0.30861928],\n",
              "       [0.31699346],\n",
              "       [0.32066993],\n",
              "       [0.31740196],\n",
              "       [0.32700163],\n",
              "       [0.33292484],\n",
              "       [0.33823529],\n",
              "       [0.33415033],\n",
              "       [0.33986928],\n",
              "       [0.34681373],\n",
              "       [0.3500817 ],\n",
              "       [0.32618464],\n",
              "       [0.32271242],\n",
              "       [0.3247549 ],\n",
              "       [0.32148693],\n",
              "       [0.32352941],\n",
              "       [0.3255719 ],\n",
              "       [0.32638889],\n",
              "       [0.33496732],\n",
              "       [0.34395425],\n",
              "       [0.3441585 ],\n",
              "       [0.34599673],\n",
              "       [0.35866013],\n",
              "       [0.35580065],\n",
              "       [0.37214052],\n",
              "       [0.36294935],\n",
              "       [0.3754085 ],\n",
              "       [0.36315359],\n",
              "       [0.34640523],\n",
              "       [0.34579248],\n",
              "       [0.34844771],\n",
              "       [0.35784314],\n",
              "       [0.34722222],\n",
              "       [0.33353758],\n",
              "       [0.33537582],\n",
              "       [0.33680556],\n",
              "       [0.33680556],\n",
              "       [0.32271242],\n",
              "       [0.32638889],\n",
              "       [0.3188317 ],\n",
              "       [0.33986928],\n",
              "       [0.37765523],\n",
              "       [0.3999183 ],\n",
              "       [0.36968954],\n",
              "       [0.35886438],\n",
              "       [0.35927288],\n",
              "       [0.35294118],\n",
              "       [0.32107843],\n",
              "       [0.31413399],\n",
              "       [0.31740196],\n",
              "       [0.31597222],\n",
              "       [0.32209967],\n",
              "       [0.28267974],\n",
              "       [0.28492647],\n",
              "       [0.27389706],\n",
              "       [0.28778595],\n",
              "       [0.30187908],\n",
              "       [0.31045752],\n",
              "       [0.32128268],\n",
              "       [0.31454248],\n",
              "       [0.33129085],\n",
              "       [0.33292484],\n",
              "       [0.32802288],\n",
              "       [0.32291667],\n",
              "       [0.32802288],\n",
              "       [0.32312092],\n",
              "       [0.30718954],\n",
              "       [0.29595588],\n",
              "       [0.30473856],\n",
              "       [0.28288399],\n",
              "       [0.28982843],\n",
              "       [0.30412582],\n",
              "       [0.26429739],\n",
              "       [0.25285948],\n",
              "       [0.20710784],\n",
              "       [0.20261438],\n",
              "       [0.19566993],\n",
              "       [0.19546569],\n",
              "       [0.20465686],\n",
              "       [0.18974673],\n",
              "       [0.19934641],\n",
              "       [0.1942402 ],\n",
              "       [0.21527778],\n",
              "       [0.21629902],\n",
              "       [0.2183415 ],\n",
              "       [0.21997549],\n",
              "       [0.22222222],\n",
              "       [0.22753268],\n",
              "       [0.22732843],\n",
              "       [0.22324346],\n",
              "       [0.21527778],\n",
              "       [0.20690359],\n",
              "       [0.20200163],\n",
              "       [0.19955065],\n",
              "       [0.20159314],\n",
              "       [0.1807598 ],\n",
              "       [0.19178922],\n",
              "       [0.19403595],\n",
              "       [0.19566993],\n",
              "       [0.20445261],\n",
              "       [0.20772059],\n",
              "       [0.21221405],\n",
              "       [0.21956699],\n",
              "       [0.21629902],\n",
              "       [0.21629902],\n",
              "       [0.22140523],\n",
              "       [0.2120098 ],\n",
              "       [0.20547386],\n",
              "       [0.20077614],\n",
              "       [0.1997549 ],\n",
              "       [0.2001634 ],\n",
              "       [0.20506536],\n",
              "       [0.2005719 ],\n",
              "       [0.18831699],\n",
              "       [0.18811275],\n",
              "       [0.17034314],\n",
              "       [0.1621732 ],\n",
              "       [0.15972222],\n",
              "       [0.16278595],\n",
              "       [0.17340686],\n",
              "       [0.14174837],\n",
              "       [0.15441176],\n",
              "       [0.16503268],\n",
              "       [0.15563725],\n",
              "       [0.14460784],\n",
              "       [0.13684641],\n",
              "       [0.13582516],\n",
              "       [0.14072712],\n",
              "       [0.14501634],\n",
              "       [0.14195261],\n",
              "       [0.13562092],\n",
              "       [0.15053105],\n",
              "       [0.15727124],\n",
              "       [0.15461601],\n",
              "       [0.15767974],\n",
              "       [0.15114379],\n",
              "       [0.14297386],\n",
              "       [0.14215686],\n",
              "       [0.14787582],\n",
              "       [0.13970588],\n",
              "       [0.11642157],\n",
              "       [0.11131536],\n",
              "       [0.10927288],\n",
              "       [0.10334967],\n",
              "       [0.09783497],\n",
              "       [0.10089869],\n",
              "       [0.10906863],\n",
              "       [0.10171569],\n",
              "       [0.11254085],\n",
              "       [0.12704248],\n",
              "       [0.12214052],\n",
              "       [0.12704248],\n",
              "       [0.11519608],\n",
              "       [0.11008987],\n",
              "       [0.0996732 ],\n",
              "       [0.09640523],\n",
              "       [0.10089869],\n",
              "       [0.10886438],\n",
              "       [0.10866013],\n",
              "       [0.1186683 ],\n",
              "       [0.12316176],\n",
              "       [0.11029412],\n",
              "       [0.11703431],\n",
              "       [0.11008987],\n",
              "       [0.1064134 ],\n",
              "       [0.10559641],\n",
              "       [0.1004902 ],\n",
              "       [0.10784314],\n",
              "       [0.10988562],\n",
              "       [0.09763072],\n",
              "       [0.09027778],\n",
              "       [0.1123366 ],\n",
              "       [0.12867647],\n",
              "       [0.12071078],\n",
              "       [0.13031046],\n",
              "       [0.1439951 ],\n",
              "       [0.13664216],\n",
              "       [0.14910131],\n",
              "       [0.15686275],\n",
              "       [0.14685458],\n",
              "       [0.14481209],\n",
              "       [0.14195261],\n",
              "       [0.14093137],\n",
              "       [0.14583333],\n",
              "       [0.15339052],\n",
              "       [0.14889706],\n",
              "       [0.16646242],\n",
              "       [0.17585784],\n",
              "       [0.15604575],\n",
              "       [0.15522876],\n",
              "       [0.15339052],\n",
              "       [0.14644608],\n",
              "       [0.16441993],\n",
              "       [0.15236928],\n",
              "       [0.14889706],\n",
              "       [0.14705882],\n",
              "       [0.15012255],\n",
              "       [0.15522876],\n",
              "       [0.14052288],\n",
              "       [0.12826797],\n",
              "       [0.11172386],\n",
              "       [0.11805556],\n",
              "       [0.11887255],\n",
              "       [0.11519608],\n",
              "       [0.12969771],\n",
              "       [0.12254902],\n",
              "       [0.13786765],\n",
              "       [0.1313317 ],\n",
              "       [0.11744281],\n",
              "       [0.13071895],\n",
              "       [0.1431781 ],\n",
              "       [0.16115196],\n",
              "       [0.15175654],\n",
              "       [0.14644608],\n",
              "       [0.15216503],\n",
              "       [0.1435866 ],\n",
              "       [0.13419118],\n",
              "       [0.1431781 ],\n",
              "       [0.16115196],\n",
              "       [0.16176471],\n",
              "       [0.17320261],\n",
              "       [0.18218954],\n",
              "       [0.16237745],\n",
              "       [0.13112745],\n",
              "       [0.15931373],\n",
              "       [0.15951797],\n",
              "       [0.14808007],\n",
              "       [0.16278595],\n",
              "       [0.15625   ],\n",
              "       [0.16319444],\n",
              "       [0.16360294],\n",
              "       [0.16278595],\n",
              "       [0.16544118],\n",
              "       [0.15522876],\n",
              "       [0.17197712],\n",
              "       [0.1503268 ],\n",
              "       [0.13255719],\n",
              "       [0.14338235],\n",
              "       [0.15849673],\n",
              "       [0.1186683 ],\n",
              "       [0.11519608],\n",
              "       [0.10947712],\n",
              "       [0.0692402 ],\n",
              "       [0.06597222],\n",
              "       [0.05841503],\n",
              "       [0.05044935],\n",
              "       [0.04534314],\n",
              "       [0.04779412],\n",
              "       [0.05290033],\n",
              "       [0.04922386],\n",
              "       [0.06638072],\n",
              "       [0.07169118],\n",
              "       [0.05392157],\n",
              "       [0.04881536],\n",
              "       [0.04881536],\n",
              "       [0.05310458],\n",
              "       [0.04963235],\n",
              "       [0.05065359],\n",
              "       [0.05126634],\n",
              "       [0.04963235],\n",
              "       [0.05902778],\n",
              "       [0.05555556],\n",
              "       [0.04084967],\n",
              "       [0.03737745],\n",
              "       [0.03737745],\n",
              "       [0.02655229],\n",
              "       [0.02879902],\n",
              "       [0.0316585 ],\n",
              "       [0.0316585 ],\n",
              "       [0.03635621],\n",
              "       [0.02205882],\n",
              "       [0.01674837],\n",
              "       [0.01450163],\n",
              "       [0.02226307],\n",
              "       [0.03615196],\n",
              "       [0.02675654],\n",
              "       [0.03206699],\n",
              "       [0.02696078],\n",
              "       [0.03574346],\n",
              "       [0.03594771],\n",
              "       [0.04044118],\n",
              "       [0.03921569],\n",
              "       [0.04411765],\n",
              "       [0.02982026],\n",
              "       [0.0122549 ],\n",
              "       [0.01286765],\n",
              "       [0.01143791],\n",
              "       [0.00245098],\n",
              "       [0.0059232 ],\n",
              "       [0.        ],\n",
              "       [0.00714869],\n",
              "       [0.00428922],\n",
              "       [0.0067402 ],\n",
              "       [0.0063317 ],\n",
              "       [0.01123366],\n",
              "       [0.01960784],\n",
              "       [0.02757353],\n",
              "       [0.03002451],\n",
              "       [0.03349673],\n",
              "       [0.04003268],\n",
              "       [0.04084967],\n",
              "       [0.03982843],\n",
              "       [0.04166667],\n",
              "       [0.04370915],\n",
              "       [0.04758987],\n",
              "       [0.03594771],\n",
              "       [0.02839052],\n",
              "       [0.02410131],\n",
              "       [0.01715686],\n",
              "       [0.01531863],\n",
              "       [0.01756536],\n",
              "       [0.02696078],\n",
              "       [0.02696078],\n",
              "       [0.03819444],\n",
              "       [0.02839052],\n",
              "       [0.02369281],\n",
              "       [0.02920752],\n",
              "       [0.02328431],\n",
              "       [0.01919935],\n",
              "       [0.00653595],\n",
              "       [0.00061275],\n",
              "       [0.00796569],\n",
              "       [0.01245915],\n",
              "       [0.01981209],\n",
              "       [0.01940359],\n",
              "       [0.02246732],\n",
              "       [0.03125   ],\n",
              "       [0.02348856],\n",
              "       [0.0249183 ],\n",
              "       [0.02144608],\n",
              "       [0.04840686],\n",
              "       [0.04575163],\n",
              "       [0.03962418],\n",
              "       [0.03921569],\n",
              "       [0.04758987],\n",
              "       [0.04513889],\n",
              "       [0.04166667],\n",
              "       [0.04125817],\n",
              "       [0.05044935],\n",
              "       [0.05555556],\n",
              "       [0.05494281],\n",
              "       [0.05412582],\n",
              "       [0.0435049 ],\n",
              "       [0.04799837],\n",
              "       [0.05147059],\n",
              "       [0.05065359],\n",
              "       [0.03431373],\n",
              "       [0.04575163],\n",
              "       [0.04187092],\n",
              "       [0.04554739],\n",
              "       [0.03941993],\n",
              "       [0.02716503],\n",
              "       [0.03125   ],\n",
              "       [0.05882353],\n",
              "       [0.07148693],\n",
              "       [0.08721405],\n",
              "       [0.08986928],\n",
              "       [0.10498366],\n",
              "       [0.08905229],\n",
              "       [0.10355392],\n",
              "       [0.10375817],\n",
              "       [0.12275327],\n",
              "       [0.10906863],\n",
              "       [0.09660948],\n",
              "       [0.1064134 ],\n",
              "       [0.10457516],\n",
              "       [0.11049837],\n",
              "       [0.1127451 ],\n",
              "       [0.09803922],\n",
              "       [0.09987745],\n",
              "       [0.08925654],\n",
              "       [0.0747549 ],\n",
              "       [0.08169935],\n",
              "       [0.08925654],\n",
              "       [0.09068627],\n",
              "       [0.08129085],\n",
              "       [0.08823529],\n",
              "       [0.08455882],\n",
              "       [0.07945261],\n",
              "       [0.08374183],\n",
              "       [0.07781863],\n",
              "       [0.09824346],\n",
              "       [0.09089052],\n",
              "       [0.09007353],\n",
              "       [0.09558824],\n",
              "       [0.06862745],\n",
              "       [0.06372549],\n",
              "       [0.0494281 ],\n",
              "       [0.04799837],\n",
              "       [0.04534314],\n",
              "       [0.0443219 ],\n",
              "       [0.03941993],\n",
              "       [0.0379902 ],\n",
              "       [0.04656863],\n",
              "       [0.05085784],\n",
              "       [0.07209967],\n",
              "       [0.06535948],\n",
              "       [0.07230392],\n",
              "       [0.07802288],\n",
              "       [0.07741013],\n",
              "       [0.06086601],\n",
              "       [0.06413399],\n",
              "       [0.07046569],\n",
              "       [0.05412582],\n",
              "       [0.0498366 ],\n",
              "       [0.05167484],\n",
              "       [0.05330882],\n",
              "       [0.0435049 ],\n",
              "       [0.02634804],\n",
              "       [0.02410131],\n",
              "       [0.02961601],\n",
              "       [0.01960784],\n",
              "       [0.02961601],\n",
              "       [0.04575163],\n",
              "       [0.05923203],\n",
              "       [0.06678922],\n",
              "       [0.06229575],\n",
              "       [0.06311275],\n",
              "       [0.0629085 ],\n",
              "       [0.06658497],\n",
              "       [0.07434641],\n",
              "       [0.06944444],\n",
              "       [0.08088235],\n",
              "       [0.07700163],\n",
              "       [0.0684232 ],\n",
              "       [0.06781046],\n",
              "       [0.0629085 ],\n",
              "       [0.0692402 ],\n",
              "       [0.0755719 ],\n",
              "       [0.07781863],\n",
              "       [0.08088235],\n",
              "       [0.08843954],\n",
              "       [0.09395425],\n",
              "       [0.09599673],\n",
              "       [0.08660131],\n",
              "       [0.09027778],\n",
              "       [0.08517157],\n",
              "       [0.08374183],\n",
              "       [0.07945261],\n",
              "       [0.09109477],\n",
              "       [0.09129902],\n",
              "       [0.08803105],\n",
              "       [0.09681373],\n",
              "       [0.11417484],\n",
              "       [0.10498366],\n",
              "       [0.09987745],\n",
              "       [0.08537582],\n",
              "       [0.08047386],\n",
              "       [0.06862745],\n",
              "       [0.06576797],\n",
              "       [0.06147876],\n",
              "       [0.07169118],\n",
              "       [0.07026144],\n",
              "       [0.0747549 ],\n",
              "       [0.06821895],\n",
              "       [0.0692402 ],\n",
              "       [0.07066993],\n",
              "       [0.06801471],\n",
              "       [0.06678922],\n",
              "       [0.07414216],\n",
              "       [0.07169118],\n",
              "       [0.08639706],\n",
              "       [0.08312908],\n",
              "       [0.06311275],\n",
              "       [0.0629085 ],\n",
              "       [0.05167484],\n",
              "       [0.03186275],\n",
              "       [0.04003268],\n",
              "       [0.03860294],\n",
              "       [0.04105392],\n",
              "       [0.03390523],\n",
              "       [0.03125   ],\n",
              "       [0.02634804],\n",
              "       [0.05861928],\n",
              "       [0.06311275],\n",
              "       [0.0620915 ],\n",
              "       [0.05535131],\n",
              "       [0.08455882],\n",
              "       [0.05514706],\n",
              "       [0.06045752],\n",
              "       [0.0557598 ],\n",
              "       [0.0439134 ],\n",
              "       [0.02920752],\n",
              "       [0.02818627],\n",
              "       [0.04718137],\n",
              "       [0.06045752],\n",
              "       [0.05861928],\n",
              "       [0.06168301],\n",
              "       [0.06699346],\n",
              "       [0.07087418],\n",
              "       [0.0755719 ],\n",
              "       [0.07700163],\n",
              "       [0.10375817],\n",
              "       [0.10314542],\n",
              "       [0.10334967],\n",
              "       [0.10089869],\n",
              "       [0.10437092],\n",
              "       [0.09803922],\n",
              "       [0.09722222],\n",
              "       [0.09783497],\n",
              "       [0.09579248],\n",
              "       [0.09109477],\n",
              "       [0.09313725],\n",
              "       [0.08558007],\n",
              "       [0.09517974],\n",
              "       [0.11172386],\n",
              "       [0.12275327],\n",
              "       [0.12806373],\n",
              "       [0.1313317 ],\n",
              "       [0.12479575],\n",
              "       [0.11090686],\n",
              "       [0.10743464],\n",
              "       [0.11621732],\n",
              "       [0.11683007],\n",
              "       [0.11764706],\n",
              "       [0.12888072],\n",
              "       [0.12847222],\n",
              "       [0.13337418],\n",
              "       [0.14236111],\n",
              "       [0.14093137],\n",
              "       [0.13970588],\n",
              "       [0.13827614],\n",
              "       [0.13541667],\n",
              "       [0.13010621],\n",
              "       [0.12254902],\n",
              "       [0.12479575],\n",
              "       [0.13848039],\n",
              "       [0.14011438],\n",
              "       [0.13888889],\n",
              "       [0.13541667],\n",
              "       [0.14011438],\n",
              "       [0.1380719 ],\n",
              "       [0.13071895],\n",
              "       [0.13071895],\n",
              "       [0.12867647],\n",
              "       [0.11846405],\n",
              "       [0.14644608],\n",
              "       [0.14808007],\n",
              "       [0.15910948],\n",
              "       [0.15992647],\n",
              "       [0.15788399],\n",
              "       [0.16441993],\n",
              "       [0.17892157],\n",
              "       [0.17933007],\n",
              "       [0.19260621],\n",
              "       [0.20812908],\n",
              "       [0.18974673],\n",
              "       [0.18055556],\n",
              "       [0.18239379],\n",
              "       [0.17708333],\n",
              "       [0.17810458],\n",
              "       [0.18055556],\n",
              "       [0.17810458],\n",
              "       [0.17851307],\n",
              "       [0.19607843],\n",
              "       [0.18913399],\n",
              "       [0.18954248],\n",
              "       [0.19403595],\n",
              "       [0.19444444],\n",
              "       [0.20200163],\n",
              "       [0.19771242],\n",
              "       [0.19934641],\n",
              "       [0.19873366],\n",
              "       [0.1997549 ],\n",
              "       [0.2128268 ],\n",
              "       [0.21568627],\n",
              "       [0.20445261],\n",
              "       [0.21772876],\n",
              "       [0.21098856],\n",
              "       [0.21425654],\n",
              "       [0.19750817],\n",
              "       [0.18811275],\n",
              "       [0.17851307],\n",
              "       [0.17381536],\n",
              "       [0.16033497],\n",
              "       [0.16564542],\n",
              "       [0.17116013],\n",
              "       [0.17422386],\n",
              "       [0.18035131],\n",
              "       [0.17401961],\n",
              "       [0.16278595],\n",
              "       [0.16973039],\n",
              "       [0.17810458],\n",
              "       [0.17034314],\n",
              "       [0.16830065],\n",
              "       [0.17279412],\n",
              "       [0.17544935],\n",
              "       [0.18382353],\n",
              "       [0.19138072],\n",
              "       [0.18913399],\n",
              "       [0.19097222],\n",
              "       [0.17238562],\n",
              "       [0.16830065],\n",
              "       [0.1693219 ],\n",
              "       [0.17177288],\n",
              "       [0.16156046],\n",
              "       [0.14971405],\n",
              "       [0.1503268 ],\n",
              "       [0.15196078],\n",
              "       [0.14726307],\n",
              "       [0.14501634],\n",
              "       [0.14603758],\n",
              "       [0.12479575],\n",
              "       [0.13112745],\n",
              "       [0.11397059],\n",
              "       [0.1190768 ],\n",
              "       [0.12377451],\n",
              "       [0.13562092],\n",
              "       [0.12908497],\n",
              "       [0.13459967],\n",
              "       [0.12806373],\n",
              "       [0.13031046],\n",
              "       [0.12724673],\n",
              "       [0.13521242],\n",
              "       [0.14522059],\n",
              "       [0.15257353],\n",
              "       [0.14848856],\n",
              "       [0.14338235],\n",
              "       [0.14562908],\n",
              "       [0.15236928],\n",
              "       [0.15400327],\n",
              "       [0.14971405],\n",
              "       [0.1621732 ],\n",
              "       [0.16319444],\n",
              "       [0.16584967]])"
            ]
          },
          "metadata": {},
          "execution_count": 29
        }
      ],
      "source": [
        "test_data"
      ]
    },
    {
      "cell_type": "markdown",
      "metadata": {
        "id": "DDUFCCCzqZwm"
      },
      "source": [
        "**Data Preprocessing**"
      ]
    },
    {
      "cell_type": "code",
      "execution_count": null,
      "metadata": {
        "id": "2OEd5dC6qNpq"
      },
      "outputs": [],
      "source": [
        "import numpy\n",
        "def create_dataset(dataset, time_step=1):\n",
        "  dataX, dataY = [], []\n",
        "  for i in range(len(dataset)-time_step-1):\n",
        "    a = dataset[i:(i+time_step), 0]\n",
        "    dataX.append(a)\n",
        "    dataY.append(dataset[i + time_step, 0])\n",
        "  return numpy.array(dataX), numpy.array(dataY)\n"
      ]
    },
    {
      "cell_type": "code",
      "execution_count": null,
      "metadata": {
        "id": "OKG1XQfUChmw"
      },
      "outputs": [],
      "source": [
        "time_step = 100\n",
        "X_train, y_train = create_dataset(train_data, time_step)\n",
        "X_test, ytest = create_dataset(test_data, time_step)"
      ]
    },
    {
      "cell_type": "code",
      "execution_count": null,
      "metadata": {
        "colab": {
          "base_uri": "https://localhost:8080/"
        },
        "id": "0vSk2BlvCc0U",
        "outputId": "4f9cb10b-e32a-4c2c-baca-ad506bdf196c"
      },
      "outputs": [
        {
          "output_type": "stream",
          "name": "stdout",
          "text": [
            "[[0.62418301 0.62214052 0.62622549 ... 0.83455882 0.86213235 0.85273693]\n",
            " [0.62214052 0.62622549 0.63378268 ... 0.86213235 0.85273693 0.87111928]\n",
            " [0.62622549 0.63378268 0.62234477 ... 0.85273693 0.87111928 0.84497549]\n",
            " ...\n",
            " [0.34517974 0.31781046 0.33047386 ... 0.2816585  0.27001634 0.26531863]\n",
            " [0.31781046 0.33047386 0.32128268 ... 0.27001634 0.26531863 0.27389706]\n",
            " [0.33047386 0.32128268 0.34007353 ... 0.26531863 0.27389706 0.25347222]]\n"
          ]
        }
      ],
      "source": [
        "print(X_train)"
      ]
    },
    {
      "cell_type": "code",
      "execution_count": null,
      "metadata": {
        "colab": {
          "base_uri": "https://localhost:8080/"
        },
        "id": "Zud_ikzvCsiv",
        "outputId": "2917d07f-9765-4a51-fcc8-97e62ac640c9"
      },
      "outputs": [
        {
          "output_type": "stream",
          "name": "stdout",
          "text": [
            "(1221, 100)\n"
          ]
        }
      ],
      "source": [
        "print(X_train.shape)"
      ]
    },
    {
      "cell_type": "code",
      "execution_count": null,
      "metadata": {
        "colab": {
          "base_uri": "https://localhost:8080/"
        },
        "id": "lK24-N5zC53z",
        "outputId": "20762710-6d02-4006-aec1-11542fd0ea84"
      },
      "outputs": [
        {
          "output_type": "stream",
          "name": "stdout",
          "text": [
            "[0.87111928 0.84497549 0.84027778 ... 0.27389706 0.25347222 0.26041667]\n"
          ]
        }
      ],
      "source": [
        "print(y_train)"
      ]
    },
    {
      "cell_type": "code",
      "execution_count": null,
      "metadata": {
        "colab": {
          "base_uri": "https://localhost:8080/"
        },
        "id": "Z_-Lew8CC-rd",
        "outputId": "d58fa046-003b-4eea-e298-dfd58e46aca9"
      },
      "outputs": [
        {
          "output_type": "stream",
          "name": "stdout",
          "text": [
            "(1221,)\n"
          ]
        }
      ],
      "source": [
        "print(y_train.shape)"
      ]
    },
    {
      "cell_type": "code",
      "execution_count": null,
      "metadata": {
        "colab": {
          "base_uri": "https://localhost:8080/"
        },
        "id": "L9OJcRNyDJcv",
        "outputId": "18408023-a809-4057-9f2c-058e06627c3f"
      },
      "outputs": [
        {
          "output_type": "stream",
          "name": "stdout",
          "text": [
            "[[0.24652778 0.23611111 0.25204248 ... 0.34681373 0.3500817  0.32618464]\n",
            " [0.23611111 0.25204248 0.25919118 ... 0.3500817  0.32618464 0.32271242]\n",
            " [0.25204248 0.25919118 0.25776144 ... 0.32618464 0.32271242 0.3247549 ]\n",
            " ...\n",
            " [0.13827614 0.13541667 0.13010621 ... 0.14562908 0.15236928 0.15400327]\n",
            " [0.13541667 0.13010621 0.12254902 ... 0.15236928 0.15400327 0.14971405]\n",
            " [0.13010621 0.12254902 0.12479575 ... 0.15400327 0.14971405 0.1621732 ]]\n"
          ]
        }
      ],
      "source": [
        "print(X_test)"
      ]
    },
    {
      "cell_type": "code",
      "execution_count": null,
      "metadata": {
        "colab": {
          "base_uri": "https://localhost:8080/"
        },
        "id": "A6dOWEYlDNl9",
        "outputId": "fd00bf90-7522-4176-d641-9b6070e8add3"
      },
      "outputs": [
        {
          "output_type": "stream",
          "name": "stdout",
          "text": [
            "(612, 100)\n"
          ]
        }
      ],
      "source": [
        "print(X_test.shape)"
      ]
    },
    {
      "cell_type": "code",
      "execution_count": null,
      "metadata": {
        "colab": {
          "base_uri": "https://localhost:8080/"
        },
        "id": "XZhVlu84DSav",
        "outputId": "fe68a3d0-b8b6-43d0-dfa9-4018cdc21059"
      },
      "outputs": [
        {
          "output_type": "stream",
          "name": "stdout",
          "text": [
            "[0.32271242 0.3247549  0.32148693 0.32352941 0.3255719  0.32638889\n",
            " 0.33496732 0.34395425 0.3441585  0.34599673 0.35866013 0.35580065\n",
            " 0.37214052 0.36294935 0.3754085  0.36315359 0.34640523 0.34579248\n",
            " 0.34844771 0.35784314 0.34722222 0.33353758 0.33537582 0.33680556\n",
            " 0.33680556 0.32271242 0.32638889 0.3188317  0.33986928 0.37765523\n",
            " 0.3999183  0.36968954 0.35886438 0.35927288 0.35294118 0.32107843\n",
            " 0.31413399 0.31740196 0.31597222 0.32209967 0.28267974 0.28492647\n",
            " 0.27389706 0.28778595 0.30187908 0.31045752 0.32128268 0.31454248\n",
            " 0.33129085 0.33292484 0.32802288 0.32291667 0.32802288 0.32312092\n",
            " 0.30718954 0.29595588 0.30473856 0.28288399 0.28982843 0.30412582\n",
            " 0.26429739 0.25285948 0.20710784 0.20261438 0.19566993 0.19546569\n",
            " 0.20465686 0.18974673 0.19934641 0.1942402  0.21527778 0.21629902\n",
            " 0.2183415  0.21997549 0.22222222 0.22753268 0.22732843 0.22324346\n",
            " 0.21527778 0.20690359 0.20200163 0.19955065 0.20159314 0.1807598\n",
            " 0.19178922 0.19403595 0.19566993 0.20445261 0.20772059 0.21221405\n",
            " 0.21956699 0.21629902 0.21629902 0.22140523 0.2120098  0.20547386\n",
            " 0.20077614 0.1997549  0.2001634  0.20506536 0.2005719  0.18831699\n",
            " 0.18811275 0.17034314 0.1621732  0.15972222 0.16278595 0.17340686\n",
            " 0.14174837 0.15441176 0.16503268 0.15563725 0.14460784 0.13684641\n",
            " 0.13582516 0.14072712 0.14501634 0.14195261 0.13562092 0.15053105\n",
            " 0.15727124 0.15461601 0.15767974 0.15114379 0.14297386 0.14215686\n",
            " 0.14787582 0.13970588 0.11642157 0.11131536 0.10927288 0.10334967\n",
            " 0.09783497 0.10089869 0.10906863 0.10171569 0.11254085 0.12704248\n",
            " 0.12214052 0.12704248 0.11519608 0.11008987 0.0996732  0.09640523\n",
            " 0.10089869 0.10886438 0.10866013 0.1186683  0.12316176 0.11029412\n",
            " 0.11703431 0.11008987 0.1064134  0.10559641 0.1004902  0.10784314\n",
            " 0.10988562 0.09763072 0.09027778 0.1123366  0.12867647 0.12071078\n",
            " 0.13031046 0.1439951  0.13664216 0.14910131 0.15686275 0.14685458\n",
            " 0.14481209 0.14195261 0.14093137 0.14583333 0.15339052 0.14889706\n",
            " 0.16646242 0.17585784 0.15604575 0.15522876 0.15339052 0.14644608\n",
            " 0.16441993 0.15236928 0.14889706 0.14705882 0.15012255 0.15522876\n",
            " 0.14052288 0.12826797 0.11172386 0.11805556 0.11887255 0.11519608\n",
            " 0.12969771 0.12254902 0.13786765 0.1313317  0.11744281 0.13071895\n",
            " 0.1431781  0.16115196 0.15175654 0.14644608 0.15216503 0.1435866\n",
            " 0.13419118 0.1431781  0.16115196 0.16176471 0.17320261 0.18218954\n",
            " 0.16237745 0.13112745 0.15931373 0.15951797 0.14808007 0.16278595\n",
            " 0.15625    0.16319444 0.16360294 0.16278595 0.16544118 0.15522876\n",
            " 0.17197712 0.1503268  0.13255719 0.14338235 0.15849673 0.1186683\n",
            " 0.11519608 0.10947712 0.0692402  0.06597222 0.05841503 0.05044935\n",
            " 0.04534314 0.04779412 0.05290033 0.04922386 0.06638072 0.07169118\n",
            " 0.05392157 0.04881536 0.04881536 0.05310458 0.04963235 0.05065359\n",
            " 0.05126634 0.04963235 0.05902778 0.05555556 0.04084967 0.03737745\n",
            " 0.03737745 0.02655229 0.02879902 0.0316585  0.0316585  0.03635621\n",
            " 0.02205882 0.01674837 0.01450163 0.02226307 0.03615196 0.02675654\n",
            " 0.03206699 0.02696078 0.03574346 0.03594771 0.04044118 0.03921569\n",
            " 0.04411765 0.02982026 0.0122549  0.01286765 0.01143791 0.00245098\n",
            " 0.0059232  0.         0.00714869 0.00428922 0.0067402  0.0063317\n",
            " 0.01123366 0.01960784 0.02757353 0.03002451 0.03349673 0.04003268\n",
            " 0.04084967 0.03982843 0.04166667 0.04370915 0.04758987 0.03594771\n",
            " 0.02839052 0.02410131 0.01715686 0.01531863 0.01756536 0.02696078\n",
            " 0.02696078 0.03819444 0.02839052 0.02369281 0.02920752 0.02328431\n",
            " 0.01919935 0.00653595 0.00061275 0.00796569 0.01245915 0.01981209\n",
            " 0.01940359 0.02246732 0.03125    0.02348856 0.0249183  0.02144608\n",
            " 0.04840686 0.04575163 0.03962418 0.03921569 0.04758987 0.04513889\n",
            " 0.04166667 0.04125817 0.05044935 0.05555556 0.05494281 0.05412582\n",
            " 0.0435049  0.04799837 0.05147059 0.05065359 0.03431373 0.04575163\n",
            " 0.04187092 0.04554739 0.03941993 0.02716503 0.03125    0.05882353\n",
            " 0.07148693 0.08721405 0.08986928 0.10498366 0.08905229 0.10355392\n",
            " 0.10375817 0.12275327 0.10906863 0.09660948 0.1064134  0.10457516\n",
            " 0.11049837 0.1127451  0.09803922 0.09987745 0.08925654 0.0747549\n",
            " 0.08169935 0.08925654 0.09068627 0.08129085 0.08823529 0.08455882\n",
            " 0.07945261 0.08374183 0.07781863 0.09824346 0.09089052 0.09007353\n",
            " 0.09558824 0.06862745 0.06372549 0.0494281  0.04799837 0.04534314\n",
            " 0.0443219  0.03941993 0.0379902  0.04656863 0.05085784 0.07209967\n",
            " 0.06535948 0.07230392 0.07802288 0.07741013 0.06086601 0.06413399\n",
            " 0.07046569 0.05412582 0.0498366  0.05167484 0.05330882 0.0435049\n",
            " 0.02634804 0.02410131 0.02961601 0.01960784 0.02961601 0.04575163\n",
            " 0.05923203 0.06678922 0.06229575 0.06311275 0.0629085  0.06658497\n",
            " 0.07434641 0.06944444 0.08088235 0.07700163 0.0684232  0.06781046\n",
            " 0.0629085  0.0692402  0.0755719  0.07781863 0.08088235 0.08843954\n",
            " 0.09395425 0.09599673 0.08660131 0.09027778 0.08517157 0.08374183\n",
            " 0.07945261 0.09109477 0.09129902 0.08803105 0.09681373 0.11417484\n",
            " 0.10498366 0.09987745 0.08537582 0.08047386 0.06862745 0.06576797\n",
            " 0.06147876 0.07169118 0.07026144 0.0747549  0.06821895 0.0692402\n",
            " 0.07066993 0.06801471 0.06678922 0.07414216 0.07169118 0.08639706\n",
            " 0.08312908 0.06311275 0.0629085  0.05167484 0.03186275 0.04003268\n",
            " 0.03860294 0.04105392 0.03390523 0.03125    0.02634804 0.05861928\n",
            " 0.06311275 0.0620915  0.05535131 0.08455882 0.05514706 0.06045752\n",
            " 0.0557598  0.0439134  0.02920752 0.02818627 0.04718137 0.06045752\n",
            " 0.05861928 0.06168301 0.06699346 0.07087418 0.0755719  0.07700163\n",
            " 0.10375817 0.10314542 0.10334967 0.10089869 0.10437092 0.09803922\n",
            " 0.09722222 0.09783497 0.09579248 0.09109477 0.09313725 0.08558007\n",
            " 0.09517974 0.11172386 0.12275327 0.12806373 0.1313317  0.12479575\n",
            " 0.11090686 0.10743464 0.11621732 0.11683007 0.11764706 0.12888072\n",
            " 0.12847222 0.13337418 0.14236111 0.14093137 0.13970588 0.13827614\n",
            " 0.13541667 0.13010621 0.12254902 0.12479575 0.13848039 0.14011438\n",
            " 0.13888889 0.13541667 0.14011438 0.1380719  0.13071895 0.13071895\n",
            " 0.12867647 0.11846405 0.14644608 0.14808007 0.15910948 0.15992647\n",
            " 0.15788399 0.16441993 0.17892157 0.17933007 0.19260621 0.20812908\n",
            " 0.18974673 0.18055556 0.18239379 0.17708333 0.17810458 0.18055556\n",
            " 0.17810458 0.17851307 0.19607843 0.18913399 0.18954248 0.19403595\n",
            " 0.19444444 0.20200163 0.19771242 0.19934641 0.19873366 0.1997549\n",
            " 0.2128268  0.21568627 0.20445261 0.21772876 0.21098856 0.21425654\n",
            " 0.19750817 0.18811275 0.17851307 0.17381536 0.16033497 0.16564542\n",
            " 0.17116013 0.17422386 0.18035131 0.17401961 0.16278595 0.16973039\n",
            " 0.17810458 0.17034314 0.16830065 0.17279412 0.17544935 0.18382353\n",
            " 0.19138072 0.18913399 0.19097222 0.17238562 0.16830065 0.1693219\n",
            " 0.17177288 0.16156046 0.14971405 0.1503268  0.15196078 0.14726307\n",
            " 0.14501634 0.14603758 0.12479575 0.13112745 0.11397059 0.1190768\n",
            " 0.12377451 0.13562092 0.12908497 0.13459967 0.12806373 0.13031046\n",
            " 0.12724673 0.13521242 0.14522059 0.15257353 0.14848856 0.14338235\n",
            " 0.14562908 0.15236928 0.15400327 0.14971405 0.1621732  0.16319444]\n"
          ]
        }
      ],
      "source": [
        "print(ytest)"
      ]
    },
    {
      "cell_type": "code",
      "execution_count": null,
      "metadata": {
        "colab": {
          "base_uri": "https://localhost:8080/"
        },
        "id": "Kbs6Thk-DYgs",
        "outputId": "03eb1a88-6e33-4c57-cd40-3c0dd77fffe9"
      },
      "outputs": [
        {
          "output_type": "stream",
          "name": "stdout",
          "text": [
            "(612,)\n"
          ]
        }
      ],
      "source": [
        "print(ytest.shape)"
      ]
    },
    {
      "cell_type": "code",
      "execution_count": null,
      "metadata": {
        "colab": {
          "base_uri": "https://localhost:8080/"
        },
        "id": "2ZQR_BkQDdBv",
        "outputId": "a742dd6e-ca7c-4e07-98c0-f070ad685ed3"
      },
      "outputs": [
        {
          "output_type": "stream",
          "name": "stdout",
          "text": [
            "(612, 100) (612,)\n"
          ]
        }
      ],
      "source": [
        "print(X_test.shape,ytest.shape)"
      ]
    },
    {
      "cell_type": "markdown",
      "metadata": {
        "id": "xZMHs5EwsBCm"
      },
      "source": [
        "**LSTM**"
      ]
    },
    {
      "cell_type": "code",
      "execution_count": null,
      "metadata": {
        "id": "plZ6hKBRqvB7"
      },
      "outputs": [],
      "source": [
        "X_train =X_train.reshape(X_train.shape[0],X_train.shape[1] , 1)\n",
        "X_test = X_test.reshape(X_test.shape[0],X_test.shape[1] , 1)"
      ]
    },
    {
      "cell_type": "code",
      "execution_count": null,
      "metadata": {
        "colab": {
          "base_uri": "https://localhost:8080/"
        },
        "id": "k-ezXJr-D0lz",
        "outputId": "3c556230-062e-4d7f-f15a-f83f7201f082"
      },
      "outputs": [
        {
          "output_type": "execute_result",
          "data": {
            "text/plain": [
              "((1221, 100, 1), (612, 100, 1))"
            ]
          },
          "metadata": {},
          "execution_count": 42
        }
      ],
      "source": [
        "X_train.shape,X_test.shape"
      ]
    },
    {
      "cell_type": "code",
      "execution_count": null,
      "metadata": {
        "id": "ZAxCtFaXQ8Xc"
      },
      "outputs": [],
      "source": [
        "import tensorflow as tf"
      ]
    },
    {
      "cell_type": "code",
      "execution_count": null,
      "metadata": {
        "colab": {
          "base_uri": "https://localhost:8080/",
          "height": 36
        },
        "id": "QrckMOB5RFzA",
        "outputId": "1a6b5990-55dc-43d3-b092-4a14a519db53"
      },
      "outputs": [
        {
          "output_type": "execute_result",
          "data": {
            "text/plain": [
              "'2.9.2'"
            ],
            "application/vnd.google.colaboratory.intrinsic+json": {
              "type": "string"
            }
          },
          "metadata": {},
          "execution_count": 44
        }
      ],
      "source": [
        "tf.__version__"
      ]
    },
    {
      "cell_type": "code",
      "execution_count": null,
      "metadata": {
        "id": "KPJOmtbVsDUI"
      },
      "outputs": [],
      "source": [
        "from tensorflow.keras.models import Sequential\n",
        "from tensorflow.keras.layers import Dense\n",
        "from tensorflow.keras.layers import LSTM"
      ]
    },
    {
      "cell_type": "code",
      "execution_count": null,
      "metadata": {
        "id": "n7hcODgrsHR-"
      },
      "outputs": [],
      "source": [
        "model=Sequential()\n",
        "model.add(LSTM(50,return_sequences=True,input_shape=(100,1)))\n",
        "model.add(LSTM(50,return_sequences=True))\n",
        "model.add(LSTM(50))\n",
        "model.add(Dense(1))\n",
        "model.compile(loss='mean_squared_error',optimizer='adam')"
      ]
    },
    {
      "cell_type": "code",
      "execution_count": null,
      "metadata": {
        "colab": {
          "base_uri": "https://localhost:8080/"
        },
        "id": "MZT2ZvbbEuhM",
        "outputId": "5bc00778-cd54-4c4e-90a4-e7ecb292a061"
      },
      "outputs": [
        {
          "output_type": "stream",
          "name": "stdout",
          "text": [
            "Model: \"sequential\"\n",
            "_________________________________________________________________\n",
            " Layer (type)                Output Shape              Param #   \n",
            "=================================================================\n",
            " lstm (LSTM)                 (None, 100, 50)           10400     \n",
            "                                                                 \n",
            " lstm_1 (LSTM)               (None, 100, 50)           20200     \n",
            "                                                                 \n",
            " lstm_2 (LSTM)               (None, 50)                20200     \n",
            "                                                                 \n",
            " dense (Dense)               (None, 1)                 51        \n",
            "                                                                 \n",
            "=================================================================\n",
            "Total params: 50,851\n",
            "Trainable params: 50,851\n",
            "Non-trainable params: 0\n",
            "_________________________________________________________________\n"
          ]
        }
      ],
      "source": [
        "model.summary()"
      ]
    },
    {
      "cell_type": "code",
      "execution_count": null,
      "metadata": {
        "colab": {
          "base_uri": "https://localhost:8080/"
        },
        "id": "VB-rFfhoFNbT",
        "outputId": "851637cf-cfed-4816-f926-6a9fbf2139b3"
      },
      "outputs": [
        {
          "output_type": "stream",
          "name": "stdout",
          "text": [
            "Epoch 1/100\n",
            "20/20 [==============================] - 7s 162ms/step - loss: 0.0273 - val_loss: 0.0036\n",
            "Epoch 2/100\n",
            "20/20 [==============================] - 2s 116ms/step - loss: 0.0027 - val_loss: 9.5010e-04\n",
            "Epoch 3/100\n",
            "20/20 [==============================] - 2s 117ms/step - loss: 0.0016 - val_loss: 8.9718e-04\n",
            "Epoch 4/100\n",
            "20/20 [==============================] - 2s 117ms/step - loss: 0.0015 - val_loss: 0.0012\n",
            "Epoch 5/100\n",
            "20/20 [==============================] - 2s 116ms/step - loss: 0.0014 - val_loss: 0.0011\n",
            "Epoch 6/100\n",
            "20/20 [==============================] - 2s 114ms/step - loss: 0.0015 - val_loss: 9.0236e-04\n",
            "Epoch 7/100\n",
            "20/20 [==============================] - 2s 116ms/step - loss: 0.0013 - val_loss: 0.0012\n",
            "Epoch 8/100\n",
            "20/20 [==============================] - 2s 115ms/step - loss: 0.0012 - val_loss: 9.9417e-04\n",
            "Epoch 9/100\n",
            "20/20 [==============================] - 2s 115ms/step - loss: 0.0011 - val_loss: 9.5946e-04\n",
            "Epoch 10/100\n",
            "20/20 [==============================] - 2s 117ms/step - loss: 0.0015 - val_loss: 8.5071e-04\n",
            "Epoch 11/100\n",
            "20/20 [==============================] - 2s 116ms/step - loss: 0.0012 - val_loss: 7.2888e-04\n",
            "Epoch 12/100\n",
            "20/20 [==============================] - 2s 118ms/step - loss: 0.0015 - val_loss: 8.2322e-04\n",
            "Epoch 13/100\n",
            "20/20 [==============================] - 2s 115ms/step - loss: 0.0011 - val_loss: 8.2771e-04\n",
            "Epoch 14/100\n",
            "20/20 [==============================] - 3s 131ms/step - loss: 9.9757e-04 - val_loss: 6.7616e-04\n",
            "Epoch 15/100\n",
            "20/20 [==============================] - 3s 146ms/step - loss: 0.0012 - val_loss: 6.7456e-04\n",
            "Epoch 16/100\n",
            "20/20 [==============================] - 2s 115ms/step - loss: 0.0011 - val_loss: 7.6882e-04\n",
            "Epoch 17/100\n",
            "20/20 [==============================] - 2s 114ms/step - loss: 0.0010 - val_loss: 7.4581e-04\n",
            "Epoch 18/100\n",
            "20/20 [==============================] - 2s 115ms/step - loss: 8.4316e-04 - val_loss: 8.7423e-04\n",
            "Epoch 19/100\n",
            "20/20 [==============================] - 2s 115ms/step - loss: 7.7739e-04 - val_loss: 7.4997e-04\n",
            "Epoch 20/100\n",
            "20/20 [==============================] - 2s 114ms/step - loss: 7.5757e-04 - val_loss: 7.0066e-04\n",
            "Epoch 21/100\n",
            "20/20 [==============================] - 2s 117ms/step - loss: 7.6851e-04 - val_loss: 6.6386e-04\n",
            "Epoch 22/100\n",
            "20/20 [==============================] - 2s 118ms/step - loss: 7.5804e-04 - val_loss: 0.0012\n",
            "Epoch 23/100\n",
            "20/20 [==============================] - 2s 118ms/step - loss: 0.0012 - val_loss: 9.1497e-04\n",
            "Epoch 24/100\n",
            "20/20 [==============================] - 2s 119ms/step - loss: 7.0856e-04 - val_loss: 6.3062e-04\n",
            "Epoch 25/100\n",
            "20/20 [==============================] - 2s 115ms/step - loss: 7.6647e-04 - val_loss: 7.0270e-04\n",
            "Epoch 26/100\n",
            "20/20 [==============================] - 2s 118ms/step - loss: 6.6819e-04 - val_loss: 6.6171e-04\n",
            "Epoch 27/100\n",
            "20/20 [==============================] - 2s 117ms/step - loss: 8.2028e-04 - val_loss: 7.0965e-04\n",
            "Epoch 28/100\n",
            "20/20 [==============================] - 2s 116ms/step - loss: 6.5262e-04 - val_loss: 7.8450e-04\n",
            "Epoch 29/100\n",
            "20/20 [==============================] - 2s 116ms/step - loss: 6.4994e-04 - val_loss: 8.1029e-04\n",
            "Epoch 30/100\n",
            "20/20 [==============================] - 2s 120ms/step - loss: 7.0503e-04 - val_loss: 7.2105e-04\n",
            "Epoch 31/100\n",
            "20/20 [==============================] - 3s 167ms/step - loss: 6.8020e-04 - val_loss: 0.0011\n",
            "Epoch 32/100\n",
            "20/20 [==============================] - 2s 114ms/step - loss: 6.8682e-04 - val_loss: 8.7665e-04\n",
            "Epoch 33/100\n",
            "20/20 [==============================] - 2s 115ms/step - loss: 5.9827e-04 - val_loss: 5.4095e-04\n",
            "Epoch 34/100\n",
            "20/20 [==============================] - 2s 115ms/step - loss: 6.1043e-04 - val_loss: 6.1846e-04\n",
            "Epoch 35/100\n",
            "20/20 [==============================] - 2s 117ms/step - loss: 6.0699e-04 - val_loss: 6.4423e-04\n",
            "Epoch 36/100\n",
            "20/20 [==============================] - 2s 117ms/step - loss: 5.5459e-04 - val_loss: 7.3405e-04\n",
            "Epoch 37/100\n",
            "20/20 [==============================] - 2s 117ms/step - loss: 5.5327e-04 - val_loss: 5.7509e-04\n",
            "Epoch 38/100\n",
            "20/20 [==============================] - 2s 116ms/step - loss: 5.6936e-04 - val_loss: 6.5689e-04\n",
            "Epoch 39/100\n",
            "20/20 [==============================] - 2s 117ms/step - loss: 5.7068e-04 - val_loss: 7.3577e-04\n",
            "Epoch 40/100\n",
            "20/20 [==============================] - 2s 115ms/step - loss: 5.3230e-04 - val_loss: 5.3710e-04\n",
            "Epoch 41/100\n",
            "20/20 [==============================] - 2s 116ms/step - loss: 5.5433e-04 - val_loss: 6.1443e-04\n",
            "Epoch 42/100\n",
            "20/20 [==============================] - 2s 114ms/step - loss: 5.8402e-04 - val_loss: 4.7370e-04\n",
            "Epoch 43/100\n",
            "20/20 [==============================] - 2s 114ms/step - loss: 5.1430e-04 - val_loss: 8.6173e-04\n",
            "Epoch 44/100\n",
            "20/20 [==============================] - 2s 115ms/step - loss: 9.5725e-04 - val_loss: 7.8728e-04\n",
            "Epoch 45/100\n",
            "20/20 [==============================] - 2s 116ms/step - loss: 6.4912e-04 - val_loss: 4.9351e-04\n",
            "Epoch 46/100\n",
            "20/20 [==============================] - 2s 116ms/step - loss: 5.0802e-04 - val_loss: 5.4389e-04\n",
            "Epoch 47/100\n",
            "20/20 [==============================] - 2s 116ms/step - loss: 4.8136e-04 - val_loss: 5.7291e-04\n",
            "Epoch 48/100\n",
            "20/20 [==============================] - 2s 115ms/step - loss: 4.7292e-04 - val_loss: 5.6360e-04\n",
            "Epoch 49/100\n",
            "20/20 [==============================] - 2s 115ms/step - loss: 4.7819e-04 - val_loss: 5.0699e-04\n",
            "Epoch 50/100\n",
            "20/20 [==============================] - 2s 117ms/step - loss: 4.4782e-04 - val_loss: 4.5336e-04\n",
            "Epoch 51/100\n",
            "20/20 [==============================] - 2s 114ms/step - loss: 4.9953e-04 - val_loss: 6.0137e-04\n",
            "Epoch 52/100\n",
            "20/20 [==============================] - 2s 116ms/step - loss: 4.7689e-04 - val_loss: 5.2082e-04\n",
            "Epoch 53/100\n",
            "20/20 [==============================] - 2s 114ms/step - loss: 5.4641e-04 - val_loss: 3.5562e-04\n",
            "Epoch 54/100\n",
            "20/20 [==============================] - 2s 116ms/step - loss: 4.7724e-04 - val_loss: 5.4087e-04\n",
            "Epoch 55/100\n",
            "20/20 [==============================] - 2s 117ms/step - loss: 4.9084e-04 - val_loss: 3.7577e-04\n",
            "Epoch 56/100\n",
            "20/20 [==============================] - 2s 116ms/step - loss: 4.4715e-04 - val_loss: 4.2020e-04\n",
            "Epoch 57/100\n",
            "20/20 [==============================] - 2s 116ms/step - loss: 4.2407e-04 - val_loss: 4.0584e-04\n",
            "Epoch 58/100\n",
            "20/20 [==============================] - 2s 115ms/step - loss: 4.7192e-04 - val_loss: 3.7618e-04\n",
            "Epoch 59/100\n",
            "20/20 [==============================] - 2s 115ms/step - loss: 6.2266e-04 - val_loss: 4.2668e-04\n",
            "Epoch 60/100\n",
            "20/20 [==============================] - 2s 116ms/step - loss: 4.3152e-04 - val_loss: 4.1183e-04\n",
            "Epoch 61/100\n",
            "20/20 [==============================] - 3s 154ms/step - loss: 3.9909e-04 - val_loss: 3.1157e-04\n",
            "Epoch 62/100\n",
            "20/20 [==============================] - 2s 114ms/step - loss: 4.2013e-04 - val_loss: 3.9867e-04\n",
            "Epoch 63/100\n",
            "20/20 [==============================] - 2s 118ms/step - loss: 4.3697e-04 - val_loss: 4.1572e-04\n",
            "Epoch 64/100\n",
            "20/20 [==============================] - 2s 116ms/step - loss: 3.7031e-04 - val_loss: 3.1078e-04\n",
            "Epoch 65/100\n",
            "20/20 [==============================] - 2s 117ms/step - loss: 3.6037e-04 - val_loss: 3.5701e-04\n",
            "Epoch 66/100\n",
            "20/20 [==============================] - 2s 115ms/step - loss: 3.6204e-04 - val_loss: 3.4269e-04\n",
            "Epoch 67/100\n",
            "20/20 [==============================] - 2s 115ms/step - loss: 4.0557e-04 - val_loss: 4.8519e-04\n",
            "Epoch 68/100\n",
            "20/20 [==============================] - 2s 115ms/step - loss: 3.7344e-04 - val_loss: 3.0481e-04\n",
            "Epoch 69/100\n",
            "20/20 [==============================] - 2s 117ms/step - loss: 3.5237e-04 - val_loss: 4.2133e-04\n",
            "Epoch 70/100\n",
            "20/20 [==============================] - 2s 116ms/step - loss: 3.2322e-04 - val_loss: 4.4364e-04\n",
            "Epoch 71/100\n",
            "20/20 [==============================] - 2s 115ms/step - loss: 3.2889e-04 - val_loss: 2.7964e-04\n",
            "Epoch 72/100\n",
            "20/20 [==============================] - 2s 117ms/step - loss: 3.2779e-04 - val_loss: 3.9661e-04\n",
            "Epoch 73/100\n",
            "20/20 [==============================] - 2s 117ms/step - loss: 3.2934e-04 - val_loss: 3.7629e-04\n",
            "Epoch 74/100\n",
            "20/20 [==============================] - 2s 116ms/step - loss: 3.3342e-04 - val_loss: 2.5776e-04\n",
            "Epoch 75/100\n",
            "20/20 [==============================] - 2s 119ms/step - loss: 3.0976e-04 - val_loss: 2.4971e-04\n",
            "Epoch 76/100\n",
            "20/20 [==============================] - 2s 114ms/step - loss: 3.0849e-04 - val_loss: 3.0843e-04\n",
            "Epoch 77/100\n",
            "20/20 [==============================] - 2s 115ms/step - loss: 3.1390e-04 - val_loss: 2.8874e-04\n",
            "Epoch 78/100\n",
            "20/20 [==============================] - 2s 115ms/step - loss: 2.8633e-04 - val_loss: 3.2418e-04\n",
            "Epoch 79/100\n",
            "20/20 [==============================] - 2s 117ms/step - loss: 2.8078e-04 - val_loss: 3.1127e-04\n",
            "Epoch 80/100\n",
            "20/20 [==============================] - 2s 115ms/step - loss: 2.7355e-04 - val_loss: 2.9291e-04\n",
            "Epoch 81/100\n",
            "20/20 [==============================] - 2s 114ms/step - loss: 2.6422e-04 - val_loss: 2.2041e-04\n",
            "Epoch 82/100\n",
            "20/20 [==============================] - 2s 116ms/step - loss: 3.0588e-04 - val_loss: 2.3364e-04\n",
            "Epoch 83/100\n",
            "20/20 [==============================] - 2s 117ms/step - loss: 3.0521e-04 - val_loss: 2.6288e-04\n",
            "Epoch 84/100\n",
            "20/20 [==============================] - 2s 116ms/step - loss: 2.7511e-04 - val_loss: 3.2204e-04\n",
            "Epoch 85/100\n",
            "20/20 [==============================] - 2s 117ms/step - loss: 2.7958e-04 - val_loss: 2.6313e-04\n",
            "Epoch 86/100\n",
            "20/20 [==============================] - 2s 114ms/step - loss: 2.5718e-04 - val_loss: 2.4302e-04\n",
            "Epoch 87/100\n",
            "20/20 [==============================] - 2s 117ms/step - loss: 2.9253e-04 - val_loss: 3.5782e-04\n",
            "Epoch 88/100\n",
            "20/20 [==============================] - 2s 115ms/step - loss: 2.7359e-04 - val_loss: 2.9463e-04\n",
            "Epoch 89/100\n",
            "20/20 [==============================] - 3s 144ms/step - loss: 2.4060e-04 - val_loss: 1.9997e-04\n",
            "Epoch 90/100\n",
            "20/20 [==============================] - 2s 117ms/step - loss: 2.6204e-04 - val_loss: 2.3263e-04\n",
            "Epoch 91/100\n",
            "20/20 [==============================] - 2s 115ms/step - loss: 2.3209e-04 - val_loss: 2.5922e-04\n",
            "Epoch 92/100\n",
            "20/20 [==============================] - 2s 117ms/step - loss: 2.3113e-04 - val_loss: 3.3302e-04\n",
            "Epoch 93/100\n",
            "20/20 [==============================] - 2s 115ms/step - loss: 2.9699e-04 - val_loss: 3.8234e-04\n",
            "Epoch 94/100\n",
            "20/20 [==============================] - 2s 117ms/step - loss: 2.7752e-04 - val_loss: 2.2797e-04\n",
            "Epoch 95/100\n",
            "20/20 [==============================] - 2s 116ms/step - loss: 2.3308e-04 - val_loss: 2.1596e-04\n",
            "Epoch 96/100\n",
            "20/20 [==============================] - 2s 115ms/step - loss: 2.2269e-04 - val_loss: 2.8401e-04\n",
            "Epoch 97/100\n",
            "20/20 [==============================] - 2s 118ms/step - loss: 2.4871e-04 - val_loss: 2.2799e-04\n",
            "Epoch 98/100\n",
            "20/20 [==============================] - 2s 117ms/step - loss: 2.2625e-04 - val_loss: 2.7135e-04\n",
            "Epoch 99/100\n",
            "20/20 [==============================] - 2s 117ms/step - loss: 2.5579e-04 - val_loss: 2.1523e-04\n",
            "Epoch 100/100\n",
            "20/20 [==============================] - 2s 116ms/step - loss: 2.2624e-04 - val_loss: 1.8741e-04\n"
          ]
        },
        {
          "output_type": "execute_result",
          "data": {
            "text/plain": [
              "<keras.callbacks.History at 0x7fb9cfd10790>"
            ]
          },
          "metadata": {},
          "execution_count": 48
        }
      ],
      "source": [
        "model.fit(X_train,y_train,validation_data=(X_test,ytest),epochs=100,batch_size=64,verbose=1)"
      ]
    },
    {
      "cell_type": "code",
      "execution_count": null,
      "metadata": {
        "colab": {
          "base_uri": "https://localhost:8080/"
        },
        "id": "00rgIM_1sLSU",
        "outputId": "3bb54d08-f570-4377-d871-1534aa4969d7"
      },
      "outputs": [
        {
          "output_type": "stream",
          "name": "stdout",
          "text": [
            "39/39 [==============================] - 2s 23ms/step\n",
            "20/20 [==============================] - 0s 22ms/step\n"
          ]
        }
      ],
      "source": [
        "train_predict=model.predict(X_train)\n",
        "test_predict=model.predict(X_test)\n"
      ]
    },
    {
      "cell_type": "code",
      "execution_count": null,
      "metadata": {
        "id": "vzspiQWkIc3I"
      },
      "outputs": [],
      "source": [
        "train_predict=scaler.inverse_transform(train_predict)\n",
        "test_predict=scaler.inverse_transform(test_predict)"
      ]
    },
    {
      "cell_type": "code",
      "execution_count": null,
      "metadata": {
        "colab": {
          "base_uri": "https://localhost:8080/"
        },
        "id": "Dutv_uyosRV3",
        "outputId": "30a97691-5466-4050-9a48-9bc85f4452b3"
      },
      "outputs": [
        {
          "output_type": "execute_result",
          "data": {
            "text/plain": [
              "164.69938241600798"
            ]
          },
          "metadata": {},
          "execution_count": 51
        }
      ],
      "source": [
        "import math\n",
        "from sklearn.metrics import mean_squared_error\n",
        "math.sqrt(mean_squared_error(y_train,train_predict))"
      ]
    },
    {
      "cell_type": "code",
      "execution_count": null,
      "metadata": {
        "colab": {
          "base_uri": "https://localhost:8080/"
        },
        "id": "ioGJsStJI33y",
        "outputId": "57a52c8d-dbfa-441a-8e55-ad56788194c8"
      },
      "outputs": [
        {
          "output_type": "execute_result",
          "data": {
            "text/plain": [
              "115.33511108427257"
            ]
          },
          "metadata": {},
          "execution_count": 52
        }
      ],
      "source": [
        "math.sqrt(mean_squared_error(ytest,test_predict))"
      ]
    },
    {
      "cell_type": "code",
      "execution_count": null,
      "metadata": {
        "id": "DdH_aWliK93y",
        "colab": {
          "base_uri": "https://localhost:8080/",
          "height": 265
        },
        "outputId": "df2b6a91-82ea-4507-96ef-71a72ac44621"
      },
      "outputs": [
        {
          "output_type": "display_data",
          "data": {
            "text/plain": [
              "<Figure size 432x288 with 1 Axes>"
            ],
            "image/png": "[encoded data removed]"
          },
          "metadata": {
            "needs_background": "light"
          }
        }
      ],
      "source": [
        "### Plotting \n",
        "# shift train predictions for plotting\n",
        "look_back=100\n",
        "trainPredictPlot = numpy.empty_like(df1)\n",
        "trainPredictPlot[:, :] = np.nan\n",
        "trainPredictPlot[look_back:len(train_predict)+look_back, :] = train_predict\n",
        "# shift test predictions for plotting\n",
        "testPredictPlot = numpy.empty_like(df1)\n",
        "testPredictPlot[:, :] = numpy.nan\n",
        "testPredictPlot[len(train_predict)+(look_back*2)+1:len(df1)-1, :] = test_predict\n",
        "# plot baseline and predictions\n",
        "plt.plot(scaler.inverse_transform(df1))\n",
        "plt.plot(trainPredictPlot)\n",
        "plt.plot(testPredictPlot)\n",
        "plt.show()"
      ]
    },
    {
      "cell_type": "code",
      "source": [
        "len(test_data)"
      ],
      "metadata": {
        "colab": {
          "base_uri": "https://localhost:8080/"
        },
        "id": "vMQsTaJiXlj3",
        "outputId": "930a5aef-550a-4621-d50a-f2d972d0bd31"
      },
      "execution_count": null,
      "outputs": [
        {
          "output_type": "execute_result",
          "data": {
            "text/plain": [
              "713"
            ]
          },
          "metadata": {},
          "execution_count": 54
        }
      ]
    },
    {
      "cell_type": "code",
      "source": [
        "x_input=test_data[613:].reshape(1,-1)\n",
        "x_input.shape"
      ],
      "metadata": {
        "colab": {
          "base_uri": "https://localhost:8080/"
        },
        "id": "BajsM2a1XoK_",
        "outputId": "1915cf0c-b60a-44a7-c6ee-6d329176d1e7"
      },
      "execution_count": null,
      "outputs": [
        {
          "output_type": "execute_result",
          "data": {
            "text/plain": [
              "(1, 100)"
            ]
          },
          "metadata": {},
          "execution_count": 55
        }
      ]
    },
    {
      "cell_type": "code",
      "source": [
        "temp_input=list(x_input)\n",
        "temp_input=temp_input[0].tolist()"
      ],
      "metadata": {
        "id": "SDRWyVzLXtiE"
      },
      "execution_count": null,
      "outputs": []
    },
    {
      "cell_type": "code",
      "source": [
        "temp_input"
      ],
      "metadata": {
        "colab": {
          "base_uri": "https://localhost:8080/"
        },
        "id": "tVe9sBCKXvoE",
        "outputId": "56a9785c-eb5c-4eaf-dde4-4c27b67e2aea"
      },
      "execution_count": null,
      "outputs": [
        {
          "output_type": "execute_result",
          "data": {
            "text/plain": [
              "[0.12479575163398693,\n",
              " 0.1384803921568627,\n",
              " 0.14011437908496732,\n",
              " 0.1388888888888889,\n",
              " 0.13541666666666663,\n",
              " 0.14011437908496732,\n",
              " 0.13807189542483655,\n",
              " 0.130718954248366,\n",
              " 0.130718954248366,\n",
              " 0.12867647058823528,\n",
              " 0.11846405228758167,\n",
              " 0.14644607843137253,\n",
              " 0.1480800653594771,\n",
              " 0.159109477124183,\n",
              " 0.15992647058823523,\n",
              " 0.1578839869281045,\n",
              " 0.16441993464052285,\n",
              " 0.178921568627451,\n",
              " 0.17933006535947704,\n",
              " 0.19260620915032678,\n",
              " 0.2081290849673203,\n",
              " 0.18974673202614378,\n",
              " 0.18055555555555558,\n",
              " 0.1823937908496731,\n",
              " 0.17708333333333326,\n",
              " 0.17810457516339862,\n",
              " 0.18055555555555558,\n",
              " 0.17810457516339862,\n",
              " 0.17851307189542487,\n",
              " 0.196078431372549,\n",
              " 0.18913398692810457,\n",
              " 0.1895424836601307,\n",
              " 0.19403594771241828,\n",
              " 0.19444444444444442,\n",
              " 0.20200163398692816,\n",
              " 0.19771241830065356,\n",
              " 0.19934640522875813,\n",
              " 0.19873366013071891,\n",
              " 0.19975490196078427,\n",
              " 0.21282679738562094,\n",
              " 0.21568627450980393,\n",
              " 0.2044526143790849,\n",
              " 0.21772875816993464,\n",
              " 0.21098856209150318,\n",
              " 0.21425653594771243,\n",
              " 0.1975081699346406,\n",
              " 0.1881127450980392,\n",
              " 0.17851307189542487,\n",
              " 0.17381535947712412,\n",
              " 0.16033496732026142,\n",
              " 0.16564542483660127,\n",
              " 0.1711601307189542,\n",
              " 0.17422385620915026,\n",
              " 0.1803513071895424,\n",
              " 0.1740196078431372,\n",
              " 0.16278594771241828,\n",
              " 0.1697303921568627,\n",
              " 0.17810457516339862,\n",
              " 0.1703431372549019,\n",
              " 0.16830065359477125,\n",
              " 0.17279411764705876,\n",
              " 0.1754493464052288,\n",
              " 0.18382352941176472,\n",
              " 0.19138071895424835,\n",
              " 0.18913398692810457,\n",
              " 0.1909722222222222,\n",
              " 0.17238562091503273,\n",
              " 0.16830065359477125,\n",
              " 0.16932189542483655,\n",
              " 0.1717728758169934,\n",
              " 0.16156045751633985,\n",
              " 0.14971405228758167,\n",
              " 0.15032679738562088,\n",
              " 0.1519607843137255,\n",
              " 0.1472630718954248,\n",
              " 0.14501633986928103,\n",
              " 0.14603758169934639,\n",
              " 0.12479575163398693,\n",
              " 0.13112745098039214,\n",
              " 0.11397058823529405,\n",
              " 0.11907679738562088,\n",
              " 0.12377450980392157,\n",
              " 0.13562091503267976,\n",
              " 0.12908496732026142,\n",
              " 0.1345996732026144,\n",
              " 0.12806372549019607,\n",
              " 0.13031045751633985,\n",
              " 0.12724673202614373,\n",
              " 0.13521241830065356,\n",
              " 0.1452205882352941,\n",
              " 0.15257352941176466,\n",
              " 0.14848856209150324,\n",
              " 0.14338235294117646,\n",
              " 0.14562908496732024,\n",
              " 0.1523692810457516,\n",
              " 0.15400326797385622,\n",
              " 0.14971405228758167,\n",
              " 0.16217320261437906,\n",
              " 0.16319444444444448,\n",
              " 0.16584967320261434]"
            ]
          },
          "metadata": {},
          "execution_count": 57
        }
      ]
    },
    {
      "cell_type": "code",
      "source": [
        "# demonstrate prediction for next 10 days\n",
        "from numpy import array\n",
        "\n",
        "lst_output=[]\n",
        "n_steps=100\n",
        "i=0\n",
        "while(i<30):\n",
        "    \n",
        "    if(len(temp_input)>100):\n",
        "        #print(temp_input)\n",
        "        x_input=np.array(temp_input[1:])\n",
        "        print(\"{} day input {}\".format(i,x_input))\n",
        "        x_input=x_input.reshape(1,-1)\n",
        "        x_input = x_input.reshape((1, n_steps, 1))\n",
        "        #print(x_input)\n",
        "        yhat = model.predict(x_input, verbose=0)\n",
        "        print(\"{} day output {}\".format(i,yhat))\n",
        "        temp_input.extend(yhat[0].tolist())\n",
        "        temp_input=temp_input[1:]\n",
        "        #print(temp_input)\n",
        "        lst_output.extend(yhat.tolist())\n",
        "        i=i+1\n",
        "    else:\n",
        "        x_input = x_input.reshape((1, n_steps,1))\n",
        "        yhat = model.predict(x_input, verbose=0)\n",
        "        print(yhat[0])\n",
        "        temp_input.extend(yhat[0].tolist())\n",
        "        print(len(temp_input))\n",
        "        lst_output.extend(yhat.tolist())\n",
        "        i=i+1\n",
        "    \n",
        "\n",
        "print(lst_output)"
      ],
      "metadata": {
        "colab": {
          "base_uri": "https://localhost:8080/"
        },
        "id": "D5Z8uMI1XyAi",
        "outputId": "e25836b4-a628-45a1-a784-f6842a391cb0"
      },
      "execution_count": null,
      "outputs": [
        {
          "output_type": "stream",
          "name": "stdout",
          "text": [
            "[0.1631826]\n",
            "101\n",
            "1 day input [0.13848039 0.14011438 0.13888889 0.13541667 0.14011438 0.1380719\n",
            " 0.13071895 0.13071895 0.12867647 0.11846405 0.14644608 0.14808007\n",
            " 0.15910948 0.15992647 0.15788399 0.16441993 0.17892157 0.17933007\n",
            " 0.19260621 0.20812908 0.18974673 0.18055556 0.18239379 0.17708333\n",
            " 0.17810458 0.18055556 0.17810458 0.17851307 0.19607843 0.18913399\n",
            " 0.18954248 0.19403595 0.19444444 0.20200163 0.19771242 0.19934641\n",
            " 0.19873366 0.1997549  0.2128268  0.21568627 0.20445261 0.21772876\n",
            " 0.21098856 0.21425654 0.19750817 0.18811275 0.17851307 0.17381536\n",
            " 0.16033497 0.16564542 0.17116013 0.17422386 0.18035131 0.17401961\n",
            " 0.16278595 0.16973039 0.17810458 0.17034314 0.16830065 0.17279412\n",
            " 0.17544935 0.18382353 0.19138072 0.18913399 0.19097222 0.17238562\n",
            " 0.16830065 0.1693219  0.17177288 0.16156046 0.14971405 0.1503268\n",
            " 0.15196078 0.14726307 0.14501634 0.14603758 0.12479575 0.13112745\n",
            " 0.11397059 0.1190768  0.12377451 0.13562092 0.12908497 0.13459967\n",
            " 0.12806373 0.13031046 0.12724673 0.13521242 0.14522059 0.15257353\n",
            " 0.14848856 0.14338235 0.14562908 0.15236928 0.15400327 0.14971405\n",
            " 0.1621732  0.16319444 0.16584967 0.1631826 ]\n",
            "1 day output [[0.16443828]]\n",
            "2 day input [0.14011438 0.13888889 0.13541667 0.14011438 0.1380719  0.13071895\n",
            " 0.13071895 0.12867647 0.11846405 0.14644608 0.14808007 0.15910948\n",
            " 0.15992647 0.15788399 0.16441993 0.17892157 0.17933007 0.19260621\n",
            " 0.20812908 0.18974673 0.18055556 0.18239379 0.17708333 0.17810458\n",
            " 0.18055556 0.17810458 0.17851307 0.19607843 0.18913399 0.18954248\n",
            " 0.19403595 0.19444444 0.20200163 0.19771242 0.19934641 0.19873366\n",
            " 0.1997549  0.2128268  0.21568627 0.20445261 0.21772876 0.21098856\n",
            " 0.21425654 0.19750817 0.18811275 0.17851307 0.17381536 0.16033497\n",
            " 0.16564542 0.17116013 0.17422386 0.18035131 0.17401961 0.16278595\n",
            " 0.16973039 0.17810458 0.17034314 0.16830065 0.17279412 0.17544935\n",
            " 0.18382353 0.19138072 0.18913399 0.19097222 0.17238562 0.16830065\n",
            " 0.1693219  0.17177288 0.16156046 0.14971405 0.1503268  0.15196078\n",
            " 0.14726307 0.14501634 0.14603758 0.12479575 0.13112745 0.11397059\n",
            " 0.1190768  0.12377451 0.13562092 0.12908497 0.13459967 0.12806373\n",
            " 0.13031046 0.12724673 0.13521242 0.14522059 0.15257353 0.14848856\n",
            " 0.14338235 0.14562908 0.15236928 0.15400327 0.14971405 0.1621732\n",
            " 0.16319444 0.16584967 0.1631826  0.16443828]\n",
            "2 day output [[0.16442968]]\n",
            "3 day input [0.13888889 0.13541667 0.14011438 0.1380719  0.13071895 0.13071895\n",
            " 0.12867647 0.11846405 0.14644608 0.14808007 0.15910948 0.15992647\n",
            " 0.15788399 0.16441993 0.17892157 0.17933007 0.19260621 0.20812908\n",
            " 0.18974673 0.18055556 0.18239379 0.17708333 0.17810458 0.18055556\n",
            " 0.17810458 0.17851307 0.19607843 0.18913399 0.18954248 0.19403595\n",
            " 0.19444444 0.20200163 0.19771242 0.19934641 0.19873366 0.1997549\n",
            " 0.2128268  0.21568627 0.20445261 0.21772876 0.21098856 0.21425654\n",
            " 0.19750817 0.18811275 0.17851307 0.17381536 0.16033497 0.16564542\n",
            " 0.17116013 0.17422386 0.18035131 0.17401961 0.16278595 0.16973039\n",
            " 0.17810458 0.17034314 0.16830065 0.17279412 0.17544935 0.18382353\n",
            " 0.19138072 0.18913399 0.19097222 0.17238562 0.16830065 0.1693219\n",
            " 0.17177288 0.16156046 0.14971405 0.1503268  0.15196078 0.14726307\n",
            " 0.14501634 0.14603758 0.12479575 0.13112745 0.11397059 0.1190768\n",
            " 0.12377451 0.13562092 0.12908497 0.13459967 0.12806373 0.13031046\n",
            " 0.12724673 0.13521242 0.14522059 0.15257353 0.14848856 0.14338235\n",
            " 0.14562908 0.15236928 0.15400327 0.14971405 0.1621732  0.16319444\n",
            " 0.16584967 0.1631826  0.16443828 0.16442968]\n",
            "3 day output [[0.16394745]]\n",
            "4 day input [0.13541667 0.14011438 0.1380719  0.13071895 0.13071895 0.12867647\n",
            " 0.11846405 0.14644608 0.14808007 0.15910948 0.15992647 0.15788399\n",
            " 0.16441993 0.17892157 0.17933007 0.19260621 0.20812908 0.18974673\n",
            " 0.18055556 0.18239379 0.17708333 0.17810458 0.18055556 0.17810458\n",
            " 0.17851307 0.19607843 0.18913399 0.18954248 0.19403595 0.19444444\n",
            " 0.20200163 0.19771242 0.19934641 0.19873366 0.1997549  0.2128268\n",
            " 0.21568627 0.20445261 0.21772876 0.21098856 0.21425654 0.19750817\n",
            " 0.18811275 0.17851307 0.17381536 0.16033497 0.16564542 0.17116013\n",
            " 0.17422386 0.18035131 0.17401961 0.16278595 0.16973039 0.17810458\n",
            " 0.17034314 0.16830065 0.17279412 0.17544935 0.18382353 0.19138072\n",
            " 0.18913399 0.19097222 0.17238562 0.16830065 0.1693219  0.17177288\n",
            " 0.16156046 0.14971405 0.1503268  0.15196078 0.14726307 0.14501634\n",
            " 0.14603758 0.12479575 0.13112745 0.11397059 0.1190768  0.12377451\n",
            " 0.13562092 0.12908497 0.13459967 0.12806373 0.13031046 0.12724673\n",
            " 0.13521242 0.14522059 0.15257353 0.14848856 0.14338235 0.14562908\n",
            " 0.15236928 0.15400327 0.14971405 0.1621732  0.16319444 0.16584967\n",
            " 0.1631826  0.16443828 0.16442968 0.16394745]\n",
            "4 day output [[0.16328475]]\n",
            "5 day input [0.14011438 0.1380719  0.13071895 0.13071895 0.12867647 0.11846405\n",
            " 0.14644608 0.14808007 0.15910948 0.15992647 0.15788399 0.16441993\n",
            " 0.17892157 0.17933007 0.19260621 0.20812908 0.18974673 0.18055556\n",
            " 0.18239379 0.17708333 0.17810458 0.18055556 0.17810458 0.17851307\n",
            " 0.19607843 0.18913399 0.18954248 0.19403595 0.19444444 0.20200163\n",
            " 0.19771242 0.19934641 0.19873366 0.1997549  0.2128268  0.21568627\n",
            " 0.20445261 0.21772876 0.21098856 0.21425654 0.19750817 0.18811275\n",
            " 0.17851307 0.17381536 0.16033497 0.16564542 0.17116013 0.17422386\n",
            " 0.18035131 0.17401961 0.16278595 0.16973039 0.17810458 0.17034314\n",
            " 0.16830065 0.17279412 0.17544935 0.18382353 0.19138072 0.18913399\n",
            " 0.19097222 0.17238562 0.16830065 0.1693219  0.17177288 0.16156046\n",
            " 0.14971405 0.1503268  0.15196078 0.14726307 0.14501634 0.14603758\n",
            " 0.12479575 0.13112745 0.11397059 0.1190768  0.12377451 0.13562092\n",
            " 0.12908497 0.13459967 0.12806373 0.13031046 0.12724673 0.13521242\n",
            " 0.14522059 0.15257353 0.14848856 0.14338235 0.14562908 0.15236928\n",
            " 0.15400327 0.14971405 0.1621732  0.16319444 0.16584967 0.1631826\n",
            " 0.16443828 0.16442968 0.16394745 0.16328475]\n",
            "5 day output [[0.1625545]]\n",
            "6 day input [0.1380719  0.13071895 0.13071895 0.12867647 0.11846405 0.14644608\n",
            " 0.14808007 0.15910948 0.15992647 0.15788399 0.16441993 0.17892157\n",
            " 0.17933007 0.19260621 0.20812908 0.18974673 0.18055556 0.18239379\n",
            " 0.17708333 0.17810458 0.18055556 0.17810458 0.17851307 0.19607843\n",
            " 0.18913399 0.18954248 0.19403595 0.19444444 0.20200163 0.19771242\n",
            " 0.19934641 0.19873366 0.1997549  0.2128268  0.21568627 0.20445261\n",
            " 0.21772876 0.21098856 0.21425654 0.19750817 0.18811275 0.17851307\n",
            " 0.17381536 0.16033497 0.16564542 0.17116013 0.17422386 0.18035131\n",
            " 0.17401961 0.16278595 0.16973039 0.17810458 0.17034314 0.16830065\n",
            " 0.17279412 0.17544935 0.18382353 0.19138072 0.18913399 0.19097222\n",
            " 0.17238562 0.16830065 0.1693219  0.17177288 0.16156046 0.14971405\n",
            " 0.1503268  0.15196078 0.14726307 0.14501634 0.14603758 0.12479575\n",
            " 0.13112745 0.11397059 0.1190768  0.12377451 0.13562092 0.12908497\n",
            " 0.13459967 0.12806373 0.13031046 0.12724673 0.13521242 0.14522059\n",
            " 0.15257353 0.14848856 0.14338235 0.14562908 0.15236928 0.15400327\n",
            " 0.14971405 0.1621732  0.16319444 0.16584967 0.1631826  0.16443828\n",
            " 0.16442968 0.16394745 0.16328475 0.1625545 ]\n",
            "6 day output [[0.16181989]]\n",
            "7 day input [0.13071895 0.13071895 0.12867647 0.11846405 0.14644608 0.14808007\n",
            " 0.15910948 0.15992647 0.15788399 0.16441993 0.17892157 0.17933007\n",
            " 0.19260621 0.20812908 0.18974673 0.18055556 0.18239379 0.17708333\n",
            " 0.17810458 0.18055556 0.17810458 0.17851307 0.19607843 0.18913399\n",
            " 0.18954248 0.19403595 0.19444444 0.20200163 0.19771242 0.19934641\n",
            " 0.19873366 0.1997549  0.2128268  0.21568627 0.20445261 0.21772876\n",
            " 0.21098856 0.21425654 0.19750817 0.18811275 0.17851307 0.17381536\n",
            " 0.16033497 0.16564542 0.17116013 0.17422386 0.18035131 0.17401961\n",
            " 0.16278595 0.16973039 0.17810458 0.17034314 0.16830065 0.17279412\n",
            " 0.17544935 0.18382353 0.19138072 0.18913399 0.19097222 0.17238562\n",
            " 0.16830065 0.1693219  0.17177288 0.16156046 0.14971405 0.1503268\n",
            " 0.15196078 0.14726307 0.14501634 0.14603758 0.12479575 0.13112745\n",
            " 0.11397059 0.1190768  0.12377451 0.13562092 0.12908497 0.13459967\n",
            " 0.12806373 0.13031046 0.12724673 0.13521242 0.14522059 0.15257353\n",
            " 0.14848856 0.14338235 0.14562908 0.15236928 0.15400327 0.14971405\n",
            " 0.1621732  0.16319444 0.16584967 0.1631826  0.16443828 0.16442968\n",
            " 0.16394745 0.16328475 0.1625545  0.16181989]\n",
            "7 day output [[0.1611234]]\n",
            "8 day input [0.13071895 0.12867647 0.11846405 0.14644608 0.14808007 0.15910948\n",
            " 0.15992647 0.15788399 0.16441993 0.17892157 0.17933007 0.19260621\n",
            " 0.20812908 0.18974673 0.18055556 0.18239379 0.17708333 0.17810458\n",
            " 0.18055556 0.17810458 0.17851307 0.19607843 0.18913399 0.18954248\n",
            " 0.19403595 0.19444444 0.20200163 0.19771242 0.19934641 0.19873366\n",
            " 0.1997549  0.2128268  0.21568627 0.20445261 0.21772876 0.21098856\n",
            " 0.21425654 0.19750817 0.18811275 0.17851307 0.17381536 0.16033497\n",
            " 0.16564542 0.17116013 0.17422386 0.18035131 0.17401961 0.16278595\n",
            " 0.16973039 0.17810458 0.17034314 0.16830065 0.17279412 0.17544935\n",
            " 0.18382353 0.19138072 0.18913399 0.19097222 0.17238562 0.16830065\n",
            " 0.1693219  0.17177288 0.16156046 0.14971405 0.1503268  0.15196078\n",
            " 0.14726307 0.14501634 0.14603758 0.12479575 0.13112745 0.11397059\n",
            " 0.1190768  0.12377451 0.13562092 0.12908497 0.13459967 0.12806373\n",
            " 0.13031046 0.12724673 0.13521242 0.14522059 0.15257353 0.14848856\n",
            " 0.14338235 0.14562908 0.15236928 0.15400327 0.14971405 0.1621732\n",
            " 0.16319444 0.16584967 0.1631826  0.16443828 0.16442968 0.16394745\n",
            " 0.16328475 0.1625545  0.16181989 0.16112339]\n",
            "8 day output [[0.16049065]]\n",
            "9 day input [0.12867647 0.11846405 0.14644608 0.14808007 0.15910948 0.15992647\n",
            " 0.15788399 0.16441993 0.17892157 0.17933007 0.19260621 0.20812908\n",
            " 0.18974673 0.18055556 0.18239379 0.17708333 0.17810458 0.18055556\n",
            " 0.17810458 0.17851307 0.19607843 0.18913399 0.18954248 0.19403595\n",
            " 0.19444444 0.20200163 0.19771242 0.19934641 0.19873366 0.1997549\n",
            " 0.2128268  0.21568627 0.20445261 0.21772876 0.21098856 0.21425654\n",
            " 0.19750817 0.18811275 0.17851307 0.17381536 0.16033497 0.16564542\n",
            " 0.17116013 0.17422386 0.18035131 0.17401961 0.16278595 0.16973039\n",
            " 0.17810458 0.17034314 0.16830065 0.17279412 0.17544935 0.18382353\n",
            " 0.19138072 0.18913399 0.19097222 0.17238562 0.16830065 0.1693219\n",
            " 0.17177288 0.16156046 0.14971405 0.1503268  0.15196078 0.14726307\n",
            " 0.14501634 0.14603758 0.12479575 0.13112745 0.11397059 0.1190768\n",
            " 0.12377451 0.13562092 0.12908497 0.13459967 0.12806373 0.13031046\n",
            " 0.12724673 0.13521242 0.14522059 0.15257353 0.14848856 0.14338235\n",
            " 0.14562908 0.15236928 0.15400327 0.14971405 0.1621732  0.16319444\n",
            " 0.16584967 0.1631826  0.16443828 0.16442968 0.16394745 0.16328475\n",
            " 0.1625545  0.16181989 0.16112339 0.16049065]\n",
            "9 day output [[0.15993285]]\n",
            "10 day input [0.11846405 0.14644608 0.14808007 0.15910948 0.15992647 0.15788399\n",
            " 0.16441993 0.17892157 0.17933007 0.19260621 0.20812908 0.18974673\n",
            " 0.18055556 0.18239379 0.17708333 0.17810458 0.18055556 0.17810458\n",
            " 0.17851307 0.19607843 0.18913399 0.18954248 0.19403595 0.19444444\n",
            " 0.20200163 0.19771242 0.19934641 0.19873366 0.1997549  0.2128268\n",
            " 0.21568627 0.20445261 0.21772876 0.21098856 0.21425654 0.19750817\n",
            " 0.18811275 0.17851307 0.17381536 0.16033497 0.16564542 0.17116013\n",
            " 0.17422386 0.18035131 0.17401961 0.16278595 0.16973039 0.17810458\n",
            " 0.17034314 0.16830065 0.17279412 0.17544935 0.18382353 0.19138072\n",
            " 0.18913399 0.19097222 0.17238562 0.16830065 0.1693219  0.17177288\n",
            " 0.16156046 0.14971405 0.1503268  0.15196078 0.14726307 0.14501634\n",
            " 0.14603758 0.12479575 0.13112745 0.11397059 0.1190768  0.12377451\n",
            " 0.13562092 0.12908497 0.13459967 0.12806373 0.13031046 0.12724673\n",
            " 0.13521242 0.14522059 0.15257353 0.14848856 0.14338235 0.14562908\n",
            " 0.15236928 0.15400327 0.14971405 0.1621732  0.16319444 0.16584967\n",
            " 0.1631826  0.16443828 0.16442968 0.16394745 0.16328475 0.1625545\n",
            " 0.16181989 0.16112339 0.16049065 0.15993285]\n",
            "10 day output [[0.15945062]]\n",
            "11 day input [0.14644608 0.14808007 0.15910948 0.15992647 0.15788399 0.16441993\n",
            " 0.17892157 0.17933007 0.19260621 0.20812908 0.18974673 0.18055556\n",
            " 0.18239379 0.17708333 0.17810458 0.18055556 0.17810458 0.17851307\n",
            " 0.19607843 0.18913399 0.18954248 0.19403595 0.19444444 0.20200163\n",
            " 0.19771242 0.19934641 0.19873366 0.1997549  0.2128268  0.21568627\n",
            " 0.20445261 0.21772876 0.21098856 0.21425654 0.19750817 0.18811275\n",
            " 0.17851307 0.17381536 0.16033497 0.16564542 0.17116013 0.17422386\n",
            " 0.18035131 0.17401961 0.16278595 0.16973039 0.17810458 0.17034314\n",
            " 0.16830065 0.17279412 0.17544935 0.18382353 0.19138072 0.18913399\n",
            " 0.19097222 0.17238562 0.16830065 0.1693219  0.17177288 0.16156046\n",
            " 0.14971405 0.1503268  0.15196078 0.14726307 0.14501634 0.14603758\n",
            " 0.12479575 0.13112745 0.11397059 0.1190768  0.12377451 0.13562092\n",
            " 0.12908497 0.13459967 0.12806373 0.13031046 0.12724673 0.13521242\n",
            " 0.14522059 0.15257353 0.14848856 0.14338235 0.14562908 0.15236928\n",
            " 0.15400327 0.14971405 0.1621732  0.16319444 0.16584967 0.1631826\n",
            " 0.16443828 0.16442968 0.16394745 0.16328475 0.1625545  0.16181989\n",
            " 0.16112339 0.16049065 0.15993285 0.15945062]\n",
            "11 day output [[0.15903768]]\n",
            "12 day input [0.14808007 0.15910948 0.15992647 0.15788399 0.16441993 0.17892157\n",
            " 0.17933007 0.19260621 0.20812908 0.18974673 0.18055556 0.18239379\n",
            " 0.17708333 0.17810458 0.18055556 0.17810458 0.17851307 0.19607843\n",
            " 0.18913399 0.18954248 0.19403595 0.19444444 0.20200163 0.19771242\n",
            " 0.19934641 0.19873366 0.1997549  0.2128268  0.21568627 0.20445261\n",
            " 0.21772876 0.21098856 0.21425654 0.19750817 0.18811275 0.17851307\n",
            " 0.17381536 0.16033497 0.16564542 0.17116013 0.17422386 0.18035131\n",
            " 0.17401961 0.16278595 0.16973039 0.17810458 0.17034314 0.16830065\n",
            " 0.17279412 0.17544935 0.18382353 0.19138072 0.18913399 0.19097222\n",
            " 0.17238562 0.16830065 0.1693219  0.17177288 0.16156046 0.14971405\n",
            " 0.1503268  0.15196078 0.14726307 0.14501634 0.14603758 0.12479575\n",
            " 0.13112745 0.11397059 0.1190768  0.12377451 0.13562092 0.12908497\n",
            " 0.13459967 0.12806373 0.13031046 0.12724673 0.13521242 0.14522059\n",
            " 0.15257353 0.14848856 0.14338235 0.14562908 0.15236928 0.15400327\n",
            " 0.14971405 0.1621732  0.16319444 0.16584967 0.1631826  0.16443828\n",
            " 0.16442968 0.16394745 0.16328475 0.1625545  0.16181989 0.16112339\n",
            " 0.16049065 0.15993285 0.15945062 0.15903768]\n",
            "12 day output [[0.15868431]]\n",
            "13 day input [0.15910948 0.15992647 0.15788399 0.16441993 0.17892157 0.17933007\n",
            " 0.19260621 0.20812908 0.18974673 0.18055556 0.18239379 0.17708333\n",
            " 0.17810458 0.18055556 0.17810458 0.17851307 0.19607843 0.18913399\n",
            " 0.18954248 0.19403595 0.19444444 0.20200163 0.19771242 0.19934641\n",
            " 0.19873366 0.1997549  0.2128268  0.21568627 0.20445261 0.21772876\n",
            " 0.21098856 0.21425654 0.19750817 0.18811275 0.17851307 0.17381536\n",
            " 0.16033497 0.16564542 0.17116013 0.17422386 0.18035131 0.17401961\n",
            " 0.16278595 0.16973039 0.17810458 0.17034314 0.16830065 0.17279412\n",
            " 0.17544935 0.18382353 0.19138072 0.18913399 0.19097222 0.17238562\n",
            " 0.16830065 0.1693219  0.17177288 0.16156046 0.14971405 0.1503268\n",
            " 0.15196078 0.14726307 0.14501634 0.14603758 0.12479575 0.13112745\n",
            " 0.11397059 0.1190768  0.12377451 0.13562092 0.12908497 0.13459967\n",
            " 0.12806373 0.13031046 0.12724673 0.13521242 0.14522059 0.15257353\n",
            " 0.14848856 0.14338235 0.14562908 0.15236928 0.15400327 0.14971405\n",
            " 0.1621732  0.16319444 0.16584967 0.1631826  0.16443828 0.16442968\n",
            " 0.16394745 0.16328475 0.1625545  0.16181989 0.16112339 0.16049065\n",
            " 0.15993285 0.15945062 0.15903768 0.15868431]\n",
            "13 day output [[0.15837978]]\n",
            "14 day input [0.15992647 0.15788399 0.16441993 0.17892157 0.17933007 0.19260621\n",
            " 0.20812908 0.18974673 0.18055556 0.18239379 0.17708333 0.17810458\n",
            " 0.18055556 0.17810458 0.17851307 0.19607843 0.18913399 0.18954248\n",
            " 0.19403595 0.19444444 0.20200163 0.19771242 0.19934641 0.19873366\n",
            " 0.1997549  0.2128268  0.21568627 0.20445261 0.21772876 0.21098856\n",
            " 0.21425654 0.19750817 0.18811275 0.17851307 0.17381536 0.16033497\n",
            " 0.16564542 0.17116013 0.17422386 0.18035131 0.17401961 0.16278595\n",
            " 0.16973039 0.17810458 0.17034314 0.16830065 0.17279412 0.17544935\n",
            " 0.18382353 0.19138072 0.18913399 0.19097222 0.17238562 0.16830065\n",
            " 0.1693219  0.17177288 0.16156046 0.14971405 0.1503268  0.15196078\n",
            " 0.14726307 0.14501634 0.14603758 0.12479575 0.13112745 0.11397059\n",
            " 0.1190768  0.12377451 0.13562092 0.12908497 0.13459967 0.12806373\n",
            " 0.13031046 0.12724673 0.13521242 0.14522059 0.15257353 0.14848856\n",
            " 0.14338235 0.14562908 0.15236928 0.15400327 0.14971405 0.1621732\n",
            " 0.16319444 0.16584967 0.1631826  0.16443828 0.16442968 0.16394745\n",
            " 0.16328475 0.1625545  0.16181989 0.16112339 0.16049065 0.15993285\n",
            " 0.15945062 0.15903768 0.15868431 0.15837978]\n",
            "14 day output [[0.15811425]]\n",
            "15 day input [0.15788399 0.16441993 0.17892157 0.17933007 0.19260621 0.20812908\n",
            " 0.18974673 0.18055556 0.18239379 0.17708333 0.17810458 0.18055556\n",
            " 0.17810458 0.17851307 0.19607843 0.18913399 0.18954248 0.19403595\n",
            " 0.19444444 0.20200163 0.19771242 0.19934641 0.19873366 0.1997549\n",
            " 0.2128268  0.21568627 0.20445261 0.21772876 0.21098856 0.21425654\n",
            " 0.19750817 0.18811275 0.17851307 0.17381536 0.16033497 0.16564542\n",
            " 0.17116013 0.17422386 0.18035131 0.17401961 0.16278595 0.16973039\n",
            " 0.17810458 0.17034314 0.16830065 0.17279412 0.17544935 0.18382353\n",
            " 0.19138072 0.18913399 0.19097222 0.17238562 0.16830065 0.1693219\n",
            " 0.17177288 0.16156046 0.14971405 0.1503268  0.15196078 0.14726307\n",
            " 0.14501634 0.14603758 0.12479575 0.13112745 0.11397059 0.1190768\n",
            " 0.12377451 0.13562092 0.12908497 0.13459967 0.12806373 0.13031046\n",
            " 0.12724673 0.13521242 0.14522059 0.15257353 0.14848856 0.14338235\n",
            " 0.14562908 0.15236928 0.15400327 0.14971405 0.1621732  0.16319444\n",
            " 0.16584967 0.1631826  0.16443828 0.16442968 0.16394745 0.16328475\n",
            " 0.1625545  0.16181989 0.16112339 0.16049065 0.15993285 0.15945062\n",
            " 0.15903768 0.15868431 0.15837978 0.15811425]\n",
            "15 day output [[0.15787941]]\n",
            "16 day input [0.16441993 0.17892157 0.17933007 0.19260621 0.20812908 0.18974673\n",
            " 0.18055556 0.18239379 0.17708333 0.17810458 0.18055556 0.17810458\n",
            " 0.17851307 0.19607843 0.18913399 0.18954248 0.19403595 0.19444444\n",
            " 0.20200163 0.19771242 0.19934641 0.19873366 0.1997549  0.2128268\n",
            " 0.21568627 0.20445261 0.21772876 0.21098856 0.21425654 0.19750817\n",
            " 0.18811275 0.17851307 0.17381536 0.16033497 0.16564542 0.17116013\n",
            " 0.17422386 0.18035131 0.17401961 0.16278595 0.16973039 0.17810458\n",
            " 0.17034314 0.16830065 0.17279412 0.17544935 0.18382353 0.19138072\n",
            " 0.18913399 0.19097222 0.17238562 0.16830065 0.1693219  0.17177288\n",
            " 0.16156046 0.14971405 0.1503268  0.15196078 0.14726307 0.14501634\n",
            " 0.14603758 0.12479575 0.13112745 0.11397059 0.1190768  0.12377451\n",
            " 0.13562092 0.12908497 0.13459967 0.12806373 0.13031046 0.12724673\n",
            " 0.13521242 0.14522059 0.15257353 0.14848856 0.14338235 0.14562908\n",
            " 0.15236928 0.15400327 0.14971405 0.1621732  0.16319444 0.16584967\n",
            " 0.1631826  0.16443828 0.16442968 0.16394745 0.16328475 0.1625545\n",
            " 0.16181989 0.16112339 0.16049065 0.15993285 0.15945062 0.15903768\n",
            " 0.15868431 0.15837978 0.15811425 0.15787941]\n",
            "16 day output [[0.15766913]]\n",
            "17 day input [0.17892157 0.17933007 0.19260621 0.20812908 0.18974673 0.18055556\n",
            " 0.18239379 0.17708333 0.17810458 0.18055556 0.17810458 0.17851307\n",
            " 0.19607843 0.18913399 0.18954248 0.19403595 0.19444444 0.20200163\n",
            " 0.19771242 0.19934641 0.19873366 0.1997549  0.2128268  0.21568627\n",
            " 0.20445261 0.21772876 0.21098856 0.21425654 0.19750817 0.18811275\n",
            " 0.17851307 0.17381536 0.16033497 0.16564542 0.17116013 0.17422386\n",
            " 0.18035131 0.17401961 0.16278595 0.16973039 0.17810458 0.17034314\n",
            " 0.16830065 0.17279412 0.17544935 0.18382353 0.19138072 0.18913399\n",
            " 0.19097222 0.17238562 0.16830065 0.1693219  0.17177288 0.16156046\n",
            " 0.14971405 0.1503268  0.15196078 0.14726307 0.14501634 0.14603758\n",
            " 0.12479575 0.13112745 0.11397059 0.1190768  0.12377451 0.13562092\n",
            " 0.12908497 0.13459967 0.12806373 0.13031046 0.12724673 0.13521242\n",
            " 0.14522059 0.15257353 0.14848856 0.14338235 0.14562908 0.15236928\n",
            " 0.15400327 0.14971405 0.1621732  0.16319444 0.16584967 0.1631826\n",
            " 0.16443828 0.16442968 0.16394745 0.16328475 0.1625545  0.16181989\n",
            " 0.16112339 0.16049065 0.15993285 0.15945062 0.15903768 0.15868431\n",
            " 0.15837978 0.15811425 0.15787941 0.15766913]\n",
            "17 day output [[0.15747906]]\n",
            "18 day input [0.17933007 0.19260621 0.20812908 0.18974673 0.18055556 0.18239379\n",
            " 0.17708333 0.17810458 0.18055556 0.17810458 0.17851307 0.19607843\n",
            " 0.18913399 0.18954248 0.19403595 0.19444444 0.20200163 0.19771242\n",
            " 0.19934641 0.19873366 0.1997549  0.2128268  0.21568627 0.20445261\n",
            " 0.21772876 0.21098856 0.21425654 0.19750817 0.18811275 0.17851307\n",
            " 0.17381536 0.16033497 0.16564542 0.17116013 0.17422386 0.18035131\n",
            " 0.17401961 0.16278595 0.16973039 0.17810458 0.17034314 0.16830065\n",
            " 0.17279412 0.17544935 0.18382353 0.19138072 0.18913399 0.19097222\n",
            " 0.17238562 0.16830065 0.1693219  0.17177288 0.16156046 0.14971405\n",
            " 0.1503268  0.15196078 0.14726307 0.14501634 0.14603758 0.12479575\n",
            " 0.13112745 0.11397059 0.1190768  0.12377451 0.13562092 0.12908497\n",
            " 0.13459967 0.12806373 0.13031046 0.12724673 0.13521242 0.14522059\n",
            " 0.15257353 0.14848856 0.14338235 0.14562908 0.15236928 0.15400327\n",
            " 0.14971405 0.1621732  0.16319444 0.16584967 0.1631826  0.16443828\n",
            " 0.16442968 0.16394745 0.16328475 0.1625545  0.16181989 0.16112339\n",
            " 0.16049065 0.15993285 0.15945062 0.15903768 0.15868431 0.15837978\n",
            " 0.15811425 0.15787941 0.15766913 0.15747906]\n",
            "18 day output [[0.1573068]]\n",
            "19 day input [0.19260621 0.20812908 0.18974673 0.18055556 0.18239379 0.17708333\n",
            " 0.17810458 0.18055556 0.17810458 0.17851307 0.19607843 0.18913399\n",
            " 0.18954248 0.19403595 0.19444444 0.20200163 0.19771242 0.19934641\n",
            " 0.19873366 0.1997549  0.2128268  0.21568627 0.20445261 0.21772876\n",
            " 0.21098856 0.21425654 0.19750817 0.18811275 0.17851307 0.17381536\n",
            " 0.16033497 0.16564542 0.17116013 0.17422386 0.18035131 0.17401961\n",
            " 0.16278595 0.16973039 0.17810458 0.17034314 0.16830065 0.17279412\n",
            " 0.17544935 0.18382353 0.19138072 0.18913399 0.19097222 0.17238562\n",
            " 0.16830065 0.1693219  0.17177288 0.16156046 0.14971405 0.1503268\n",
            " 0.15196078 0.14726307 0.14501634 0.14603758 0.12479575 0.13112745\n",
            " 0.11397059 0.1190768  0.12377451 0.13562092 0.12908497 0.13459967\n",
            " 0.12806373 0.13031046 0.12724673 0.13521242 0.14522059 0.15257353\n",
            " 0.14848856 0.14338235 0.14562908 0.15236928 0.15400327 0.14971405\n",
            " 0.1621732  0.16319444 0.16584967 0.1631826  0.16443828 0.16442968\n",
            " 0.16394745 0.16328475 0.1625545  0.16181989 0.16112339 0.16049065\n",
            " 0.15993285 0.15945062 0.15903768 0.15868431 0.15837978 0.15811425\n",
            " 0.15787941 0.15766913 0.15747906 0.15730681]\n",
            "19 day output [[0.15715115]]\n",
            "20 day input [0.20812908 0.18974673 0.18055556 0.18239379 0.17708333 0.17810458\n",
            " 0.18055556 0.17810458 0.17851307 0.19607843 0.18913399 0.18954248\n",
            " 0.19403595 0.19444444 0.20200163 0.19771242 0.19934641 0.19873366\n",
            " 0.1997549  0.2128268  0.21568627 0.20445261 0.21772876 0.21098856\n",
            " 0.21425654 0.19750817 0.18811275 0.17851307 0.17381536 0.16033497\n",
            " 0.16564542 0.17116013 0.17422386 0.18035131 0.17401961 0.16278595\n",
            " 0.16973039 0.17810458 0.17034314 0.16830065 0.17279412 0.17544935\n",
            " 0.18382353 0.19138072 0.18913399 0.19097222 0.17238562 0.16830065\n",
            " 0.1693219  0.17177288 0.16156046 0.14971405 0.1503268  0.15196078\n",
            " 0.14726307 0.14501634 0.14603758 0.12479575 0.13112745 0.11397059\n",
            " 0.1190768  0.12377451 0.13562092 0.12908497 0.13459967 0.12806373\n",
            " 0.13031046 0.12724673 0.13521242 0.14522059 0.15257353 0.14848856\n",
            " 0.14338235 0.14562908 0.15236928 0.15400327 0.14971405 0.1621732\n",
            " 0.16319444 0.16584967 0.1631826  0.16443828 0.16442968 0.16394745\n",
            " 0.16328475 0.1625545  0.16181989 0.16112339 0.16049065 0.15993285\n",
            " 0.15945062 0.15903768 0.15868431 0.15837978 0.15811425 0.15787941\n",
            " 0.15766913 0.15747906 0.15730681 0.15715115]\n",
            "20 day output [[0.1570115]]\n",
            "21 day input [0.18974673 0.18055556 0.18239379 0.17708333 0.17810458 0.18055556\n",
            " 0.17810458 0.17851307 0.19607843 0.18913399 0.18954248 0.19403595\n",
            " 0.19444444 0.20200163 0.19771242 0.19934641 0.19873366 0.1997549\n",
            " 0.2128268  0.21568627 0.20445261 0.21772876 0.21098856 0.21425654\n",
            " 0.19750817 0.18811275 0.17851307 0.17381536 0.16033497 0.16564542\n",
            " 0.17116013 0.17422386 0.18035131 0.17401961 0.16278595 0.16973039\n",
            " 0.17810458 0.17034314 0.16830065 0.17279412 0.17544935 0.18382353\n",
            " 0.19138072 0.18913399 0.19097222 0.17238562 0.16830065 0.1693219\n",
            " 0.17177288 0.16156046 0.14971405 0.1503268  0.15196078 0.14726307\n",
            " 0.14501634 0.14603758 0.12479575 0.13112745 0.11397059 0.1190768\n",
            " 0.12377451 0.13562092 0.12908497 0.13459967 0.12806373 0.13031046\n",
            " 0.12724673 0.13521242 0.14522059 0.15257353 0.14848856 0.14338235\n",
            " 0.14562908 0.15236928 0.15400327 0.14971405 0.1621732  0.16319444\n",
            " 0.16584967 0.1631826  0.16443828 0.16442968 0.16394745 0.16328475\n",
            " 0.1625545  0.16181989 0.16112339 0.16049065 0.15993285 0.15945062\n",
            " 0.15903768 0.15868431 0.15837978 0.15811425 0.15787941 0.15766913\n",
            " 0.15747906 0.15730681 0.15715115 0.15701149]\n",
            "21 day output [[0.15688793]]\n",
            "22 day input [0.18055556 0.18239379 0.17708333 0.17810458 0.18055556 0.17810458\n",
            " 0.17851307 0.19607843 0.18913399 0.18954248 0.19403595 0.19444444\n",
            " 0.20200163 0.19771242 0.19934641 0.19873366 0.1997549  0.2128268\n",
            " 0.21568627 0.20445261 0.21772876 0.21098856 0.21425654 0.19750817\n",
            " 0.18811275 0.17851307 0.17381536 0.16033497 0.16564542 0.17116013\n",
            " 0.17422386 0.18035131 0.17401961 0.16278595 0.16973039 0.17810458\n",
            " 0.17034314 0.16830065 0.17279412 0.17544935 0.18382353 0.19138072\n",
            " 0.18913399 0.19097222 0.17238562 0.16830065 0.1693219  0.17177288\n",
            " 0.16156046 0.14971405 0.1503268  0.15196078 0.14726307 0.14501634\n",
            " 0.14603758 0.12479575 0.13112745 0.11397059 0.1190768  0.12377451\n",
            " 0.13562092 0.12908497 0.13459967 0.12806373 0.13031046 0.12724673\n",
            " 0.13521242 0.14522059 0.15257353 0.14848856 0.14338235 0.14562908\n",
            " 0.15236928 0.15400327 0.14971405 0.1621732  0.16319444 0.16584967\n",
            " 0.1631826  0.16443828 0.16442968 0.16394745 0.16328475 0.1625545\n",
            " 0.16181989 0.16112339 0.16049065 0.15993285 0.15945062 0.15903768\n",
            " 0.15868431 0.15837978 0.15811425 0.15787941 0.15766913 0.15747906\n",
            " 0.15730681 0.15715115 0.15701149 0.15688793]\n",
            "22 day output [[0.15678024]]\n",
            "23 day input [0.18239379 0.17708333 0.17810458 0.18055556 0.17810458 0.17851307\n",
            " 0.19607843 0.18913399 0.18954248 0.19403595 0.19444444 0.20200163\n",
            " 0.19771242 0.19934641 0.19873366 0.1997549  0.2128268  0.21568627\n",
            " 0.20445261 0.21772876 0.21098856 0.21425654 0.19750817 0.18811275\n",
            " 0.17851307 0.17381536 0.16033497 0.16564542 0.17116013 0.17422386\n",
            " 0.18035131 0.17401961 0.16278595 0.16973039 0.17810458 0.17034314\n",
            " 0.16830065 0.17279412 0.17544935 0.18382353 0.19138072 0.18913399\n",
            " 0.19097222 0.17238562 0.16830065 0.1693219  0.17177288 0.16156046\n",
            " 0.14971405 0.1503268  0.15196078 0.14726307 0.14501634 0.14603758\n",
            " 0.12479575 0.13112745 0.11397059 0.1190768  0.12377451 0.13562092\n",
            " 0.12908497 0.13459967 0.12806373 0.13031046 0.12724673 0.13521242\n",
            " 0.14522059 0.15257353 0.14848856 0.14338235 0.14562908 0.15236928\n",
            " 0.15400327 0.14971405 0.1621732  0.16319444 0.16584967 0.1631826\n",
            " 0.16443828 0.16442968 0.16394745 0.16328475 0.1625545  0.16181989\n",
            " 0.16112339 0.16049065 0.15993285 0.15945062 0.15903768 0.15868431\n",
            " 0.15837978 0.15811425 0.15787941 0.15766913 0.15747906 0.15730681\n",
            " 0.15715115 0.15701149 0.15688793 0.15678024]\n",
            "23 day output [[0.15668818]]\n",
            "24 day input [0.17708333 0.17810458 0.18055556 0.17810458 0.17851307 0.19607843\n",
            " 0.18913399 0.18954248 0.19403595 0.19444444 0.20200163 0.19771242\n",
            " 0.19934641 0.19873366 0.1997549  0.2128268  0.21568627 0.20445261\n",
            " 0.21772876 0.21098856 0.21425654 0.19750817 0.18811275 0.17851307\n",
            " 0.17381536 0.16033497 0.16564542 0.17116013 0.17422386 0.18035131\n",
            " 0.17401961 0.16278595 0.16973039 0.17810458 0.17034314 0.16830065\n",
            " 0.17279412 0.17544935 0.18382353 0.19138072 0.18913399 0.19097222\n",
            " 0.17238562 0.16830065 0.1693219  0.17177288 0.16156046 0.14971405\n",
            " 0.1503268  0.15196078 0.14726307 0.14501634 0.14603758 0.12479575\n",
            " 0.13112745 0.11397059 0.1190768  0.12377451 0.13562092 0.12908497\n",
            " 0.13459967 0.12806373 0.13031046 0.12724673 0.13521242 0.14522059\n",
            " 0.15257353 0.14848856 0.14338235 0.14562908 0.15236928 0.15400327\n",
            " 0.14971405 0.1621732  0.16319444 0.16584967 0.1631826  0.16443828\n",
            " 0.16442968 0.16394745 0.16328475 0.1625545  0.16181989 0.16112339\n",
            " 0.16049065 0.15993285 0.15945062 0.15903768 0.15868431 0.15837978\n",
            " 0.15811425 0.15787941 0.15766913 0.15747906 0.15730681 0.15715115\n",
            " 0.15701149 0.15688793 0.15678024 0.15668818]\n",
            "24 day output [[0.15661113]]\n",
            "25 day input [0.17810458 0.18055556 0.17810458 0.17851307 0.19607843 0.18913399\n",
            " 0.18954248 0.19403595 0.19444444 0.20200163 0.19771242 0.19934641\n",
            " 0.19873366 0.1997549  0.2128268  0.21568627 0.20445261 0.21772876\n",
            " 0.21098856 0.21425654 0.19750817 0.18811275 0.17851307 0.17381536\n",
            " 0.16033497 0.16564542 0.17116013 0.17422386 0.18035131 0.17401961\n",
            " 0.16278595 0.16973039 0.17810458 0.17034314 0.16830065 0.17279412\n",
            " 0.17544935 0.18382353 0.19138072 0.18913399 0.19097222 0.17238562\n",
            " 0.16830065 0.1693219  0.17177288 0.16156046 0.14971405 0.1503268\n",
            " 0.15196078 0.14726307 0.14501634 0.14603758 0.12479575 0.13112745\n",
            " 0.11397059 0.1190768  0.12377451 0.13562092 0.12908497 0.13459967\n",
            " 0.12806373 0.13031046 0.12724673 0.13521242 0.14522059 0.15257353\n",
            " 0.14848856 0.14338235 0.14562908 0.15236928 0.15400327 0.14971405\n",
            " 0.1621732  0.16319444 0.16584967 0.1631826  0.16443828 0.16442968\n",
            " 0.16394745 0.16328475 0.1625545  0.16181989 0.16112339 0.16049065\n",
            " 0.15993285 0.15945062 0.15903768 0.15868431 0.15837978 0.15811425\n",
            " 0.15787941 0.15766913 0.15747906 0.15730681 0.15715115 0.15701149\n",
            " 0.15688793 0.15678024 0.15668818 0.15661113]\n",
            "25 day output [[0.15654802]]\n",
            "26 day input [0.18055556 0.17810458 0.17851307 0.19607843 0.18913399 0.18954248\n",
            " 0.19403595 0.19444444 0.20200163 0.19771242 0.19934641 0.19873366\n",
            " 0.1997549  0.2128268  0.21568627 0.20445261 0.21772876 0.21098856\n",
            " 0.21425654 0.19750817 0.18811275 0.17851307 0.17381536 0.16033497\n",
            " 0.16564542 0.17116013 0.17422386 0.18035131 0.17401961 0.16278595\n",
            " 0.16973039 0.17810458 0.17034314 0.16830065 0.17279412 0.17544935\n",
            " 0.18382353 0.19138072 0.18913399 0.19097222 0.17238562 0.16830065\n",
            " 0.1693219  0.17177288 0.16156046 0.14971405 0.1503268  0.15196078\n",
            " 0.14726307 0.14501634 0.14603758 0.12479575 0.13112745 0.11397059\n",
            " 0.1190768  0.12377451 0.13562092 0.12908497 0.13459967 0.12806373\n",
            " 0.13031046 0.12724673 0.13521242 0.14522059 0.15257353 0.14848856\n",
            " 0.14338235 0.14562908 0.15236928 0.15400327 0.14971405 0.1621732\n",
            " 0.16319444 0.16584967 0.1631826  0.16443828 0.16442968 0.16394745\n",
            " 0.16328475 0.1625545  0.16181989 0.16112339 0.16049065 0.15993285\n",
            " 0.15945062 0.15903768 0.15868431 0.15837978 0.15811425 0.15787941\n",
            " 0.15766913 0.15747906 0.15730681 0.15715115 0.15701149 0.15688793\n",
            " 0.15678024 0.15668818 0.15661113 0.15654802]\n",
            "26 day output [[0.15649757]]\n",
            "27 day input [0.17810458 0.17851307 0.19607843 0.18913399 0.18954248 0.19403595\n",
            " 0.19444444 0.20200163 0.19771242 0.19934641 0.19873366 0.1997549\n",
            " 0.2128268  0.21568627 0.20445261 0.21772876 0.21098856 0.21425654\n",
            " 0.19750817 0.18811275 0.17851307 0.17381536 0.16033497 0.16564542\n",
            " 0.17116013 0.17422386 0.18035131 0.17401961 0.16278595 0.16973039\n",
            " 0.17810458 0.17034314 0.16830065 0.17279412 0.17544935 0.18382353\n",
            " 0.19138072 0.18913399 0.19097222 0.17238562 0.16830065 0.1693219\n",
            " 0.17177288 0.16156046 0.14971405 0.1503268  0.15196078 0.14726307\n",
            " 0.14501634 0.14603758 0.12479575 0.13112745 0.11397059 0.1190768\n",
            " 0.12377451 0.13562092 0.12908497 0.13459967 0.12806373 0.13031046\n",
            " 0.12724673 0.13521242 0.14522059 0.15257353 0.14848856 0.14338235\n",
            " 0.14562908 0.15236928 0.15400327 0.14971405 0.1621732  0.16319444\n",
            " 0.16584967 0.1631826  0.16443828 0.16442968 0.16394745 0.16328475\n",
            " 0.1625545  0.16181989 0.16112339 0.16049065 0.15993285 0.15945062\n",
            " 0.15903768 0.15868431 0.15837978 0.15811425 0.15787941 0.15766913\n",
            " 0.15747906 0.15730681 0.15715115 0.15701149 0.15688793 0.15678024\n",
            " 0.15668818 0.15661113 0.15654802 0.15649757]\n",
            "27 day output [[0.15645806]]\n",
            "28 day input [0.17851307 0.19607843 0.18913399 0.18954248 0.19403595 0.19444444\n",
            " 0.20200163 0.19771242 0.19934641 0.19873366 0.1997549  0.2128268\n",
            " 0.21568627 0.20445261 0.21772876 0.21098856 0.21425654 0.19750817\n",
            " 0.18811275 0.17851307 0.17381536 0.16033497 0.16564542 0.17116013\n",
            " 0.17422386 0.18035131 0.17401961 0.16278595 0.16973039 0.17810458\n",
            " 0.17034314 0.16830065 0.17279412 0.17544935 0.18382353 0.19138072\n",
            " 0.18913399 0.19097222 0.17238562 0.16830065 0.1693219  0.17177288\n",
            " 0.16156046 0.14971405 0.1503268  0.15196078 0.14726307 0.14501634\n",
            " 0.14603758 0.12479575 0.13112745 0.11397059 0.1190768  0.12377451\n",
            " 0.13562092 0.12908497 0.13459967 0.12806373 0.13031046 0.12724673\n",
            " 0.13521242 0.14522059 0.15257353 0.14848856 0.14338235 0.14562908\n",
            " 0.15236928 0.15400327 0.14971405 0.1621732  0.16319444 0.16584967\n",
            " 0.1631826  0.16443828 0.16442968 0.16394745 0.16328475 0.1625545\n",
            " 0.16181989 0.16112339 0.16049065 0.15993285 0.15945062 0.15903768\n",
            " 0.15868431 0.15837978 0.15811425 0.15787941 0.15766913 0.15747906\n",
            " 0.15730681 0.15715115 0.15701149 0.15688793 0.15678024 0.15668818\n",
            " 0.15661113 0.15654802 0.15649757 0.15645806]\n",
            "28 day output [[0.15642777]]\n",
            "29 day input [0.19607843 0.18913399 0.18954248 0.19403595 0.19444444 0.20200163\n",
            " 0.19771242 0.19934641 0.19873366 0.1997549  0.2128268  0.21568627\n",
            " 0.20445261 0.21772876 0.21098856 0.21425654 0.19750817 0.18811275\n",
            " 0.17851307 0.17381536 0.16033497 0.16564542 0.17116013 0.17422386\n",
            " 0.18035131 0.17401961 0.16278595 0.16973039 0.17810458 0.17034314\n",
            " 0.16830065 0.17279412 0.17544935 0.18382353 0.19138072 0.18913399\n",
            " 0.19097222 0.17238562 0.16830065 0.1693219  0.17177288 0.16156046\n",
            " 0.14971405 0.1503268  0.15196078 0.14726307 0.14501634 0.14603758\n",
            " 0.12479575 0.13112745 0.11397059 0.1190768  0.12377451 0.13562092\n",
            " 0.12908497 0.13459967 0.12806373 0.13031046 0.12724673 0.13521242\n",
            " 0.14522059 0.15257353 0.14848856 0.14338235 0.14562908 0.15236928\n",
            " 0.15400327 0.14971405 0.1621732  0.16319444 0.16584967 0.1631826\n",
            " 0.16443828 0.16442968 0.16394745 0.16328475 0.1625545  0.16181989\n",
            " 0.16112339 0.16049065 0.15993285 0.15945062 0.15903768 0.15868431\n",
            " 0.15837978 0.15811425 0.15787941 0.15766913 0.15747906 0.15730681\n",
            " 0.15715115 0.15701149 0.15688793 0.15678024 0.15668818 0.15661113\n",
            " 0.15654802 0.15649757 0.15645806 0.15642777]\n",
            "29 day output [[0.15640485]]\n",
            "[[0.1631826013326645], [0.16443827748298645], [0.1644296795129776], [0.1639474481344223], [0.16328474879264832], [0.16255450248718262], [0.16181989014148712], [0.1611233949661255], [0.16049064695835114], [0.15993285179138184], [0.15945062041282654], [0.15903767943382263], [0.15868431329727173], [0.15837977826595306], [0.1581142544746399], [0.15787941217422485], [0.15766912698745728], [0.15747906267642975], [0.15730680525302887], [0.15715114772319794], [0.1570114940404892], [0.1568879336118698], [0.15678024291992188], [0.15668818354606628], [0.1566111296415329], [0.15654802322387695], [0.15649756789207458], [0.1564580649137497], [0.1564277708530426], [0.15640485286712646]]\n"
          ]
        }
      ]
    },
    {
      "cell_type": "code",
      "source": [
        "day_new=np.arange(1,101)\n",
        "day_pred=np.arange(101,131)"
      ],
      "metadata": {
        "id": "rgkU8u5hX6tz"
      },
      "execution_count": null,
      "outputs": []
    },
    {
      "cell_type": "code",
      "source": [
        "import matplotlib.pyplot as plt\n",
        "len(df1)"
      ],
      "metadata": {
        "colab": {
          "base_uri": "https://localhost:8080/"
        },
        "id": "q1GZk49cX9FS",
        "outputId": "cefa1fba-5819-40b6-fad5-e8eadcda5fc2"
      },
      "execution_count": null,
      "outputs": [
        {
          "output_type": "execute_result",
          "data": {
            "text/plain": [
              "2035"
            ]
          },
          "metadata": {},
          "execution_count": 150
        }
      ]
    },
    {
      "cell_type": "code",
      "source": [
        "plt.plot(day_new,scaler.inverse_transform(df1[1935:]))\n",
        "plt.plot(day_pred,scaler.inverse_transform(lst_output))"
      ],
      "metadata": {
        "colab": {
          "base_uri": "https://localhost:8080/",
          "height": 282
        },
        "id": "oirQYyN0YBjY",
        "outputId": "d3d0c905-a811-4c1d-b1f5-ba22205d269d"
      },
      "execution_count": null,
      "outputs": [
        {
          "output_type": "execute_result",
          "data": {
            "text/plain": [
              "[<matplotlib.lines.Line2D at 0x7fe18b71a370>]"
            ]
          },
          "metadata": {},
          "execution_count": 149
        },
        {
          "output_type": "display_data",
          "data": {
            "text/plain": [
              "<Figure size 432x288 with 1 Axes>"
            ],
            "image/png": "[encoded data removed]"
          },
          "metadata": {
            "needs_background": "light"
          }
        }
      ]
    },
    {
      "cell_type": "code",
      "source": [
        "df3 = scaler.inverse_transform(df1)"
      ],
      "metadata": {
        "id": "HrX5IxOB-S1P"
      },
      "execution_count": null,
      "outputs": []
    },
    {
      "cell_type": "code",
      "source": [
        "df3 = np.concatenate((df3, scaler.inverse_transform(lst_output)))\n",
        "\n",
        "plt.plot(df3[1900:])"
      ],
      "metadata": {
        "colab": {
          "base_uri": "https://localhost:8080/",
          "height": 282
        },
        "id": "FXZj2scuYMCa",
        "outputId": "5503ab3c-10f0-45af-d934-0f3b84919bbe"
      },
      "execution_count": null,
      "outputs": [
        {
          "output_type": "execute_result",
          "data": {
            "text/plain": [
              "[<matplotlib.lines.Line2D at 0x7fe18b6eab50>]"
            ]
          },
          "metadata": {},
          "execution_count": 152
        },
        {
          "output_type": "display_data",
          "data": {
            "text/plain": [
              "<Figure size 432x288 with 1 Axes>"
            ],
            "image/png": "[encoded data removed]"
          },
          "metadata": {
            "needs_background": "light"
          }
        }
      ]
    },
    {
      "cell_type": "code",
      "source": [
        "plt.plot(df3)"
      ],
      "metadata": {
        "id": "v-ZPOFG_YO9F",
        "outputId": "419a0112-023f-4999-e9b8-1899528cf880",
        "colab": {
          "base_uri": "https://localhost:8080/",
          "height": 282
        }
      },
      "execution_count": null,
      "outputs": [
        {
          "output_type": "execute_result",
          "data": {
            "text/plain": [
              "[<matplotlib.lines.Line2D at 0x7fe18b640730>]"
            ]
          },
          "metadata": {},
          "execution_count": 153
        },
        {
          "output_type": "display_data",
          "data": {
            "text/plain": [
              "<Figure size 432x288 with 1 Axes>"
            ],
            "image/png": "[encoded data removed]"
          },
          "metadata": {
            "needs_background": "light"
          }
        }
      ]
    }
  ],
  "metadata": {
    "colab": {
      "provenance": []
    },
    "kernelspec": {
      "display_name": "Python 3",
      "name": "python3"
    },
    "language_info": {
      "name": "python"
    }
  },
  "nbformat": 4,
  "nbformat_minor": 0
}